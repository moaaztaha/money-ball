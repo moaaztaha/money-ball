{
 "cells": [
  {
   "cell_type": "code",
   "execution_count": null,
   "metadata": {},
   "outputs": [],
   "source": [
    "teams_payroll.loc[teams_payroll.teamID == 'SFG', 'Salary in M']\n",
    "val = list(teams_payroll.loc[teams_payroll.teamID == 'SFG', 'Salary in M'])\n",
    "df.loc[(df.teamID == 'SFN') & (df.yearID == 2014), 'Salary in M'] += val[0]\n"
   ]
  },
  {
   "cell_type": "code",
   "execution_count": null,
   "metadata": {},
   "outputs": [],
   "source": [
    "val = list(teams_payroll.loc[teams_payroll.teamID == 'NYM', 'Salary in M']); val\n",
    "df.loc[(df.teamID == 'NYN') & (df.yearID == 2014), 'Salary in M'] += val[0]"
   ]
  },
  {
   "cell_type": "code",
   "execution_count": null,
   "metadata": {},
   "outputs": [],
   "source": [
    "df = df.drop(df[df.teamID=='SFG'].index)\n",
    "df = df.drop(df[df.teamID=='NYM'].index)"
   ]
  }
 ],
 "metadata": {
  "kernelspec": {
   "display_name": "Python 3",
   "language": "python",
   "name": "python3"
  },
  "language_info": {
   "codemirror_mode": {
    "name": "ipython",
    "version": 3
   },
   "file_extension": ".py",
   "mimetype": "text/x-python",
   "name": "python",
   "nbconvert_exporter": "python",
   "pygments_lexer": "ipython3",
   "version": "3.7.3"
  }
 },
 "nbformat": 4,
 "nbformat_minor": 2
}
