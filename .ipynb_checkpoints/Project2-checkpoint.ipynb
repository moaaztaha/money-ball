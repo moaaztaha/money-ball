{
 "cells": [
  {
   "cell_type": "markdown",
   "metadata": {},
   "source": [
    "# Assigment 2"
   ]
  },
  {
   "cell_type": "code",
   "execution_count": 1,
   "metadata": {},
   "outputs": [],
   "source": [
    "import pandas as pd\n",
    "import sqlite3"
   ]
  },
  {
   "cell_type": "code",
   "execution_count": 2,
   "metadata": {},
   "outputs": [],
   "source": [
    "try:\n",
    "    connection=sqlite3.connect('lahman2014.sqlite')\n",
    "except Error as e:\n",
    "    print(e)\n"
   ]
  },
  {
   "cell_type": "code",
   "execution_count": 3,
   "metadata": {},
   "outputs": [
    {
     "data": {
      "text/html": [
       "<div>\n",
       "<style scoped>\n",
       "    .dataframe tbody tr th:only-of-type {\n",
       "        vertical-align: middle;\n",
       "    }\n",
       "\n",
       "    .dataframe tbody tr th {\n",
       "        vertical-align: top;\n",
       "    }\n",
       "\n",
       "    .dataframe thead th {\n",
       "        text-align: right;\n",
       "    }\n",
       "</style>\n",
       "<table border=\"1\" class=\"dataframe\">\n",
       "  <thead>\n",
       "    <tr style=\"text-align: right;\">\n",
       "      <th></th>\n",
       "      <th>yearID</th>\n",
       "      <th>teamID</th>\n",
       "      <th>Rank</th>\n",
       "      <th>G</th>\n",
       "      <th>W</th>\n",
       "      <th>name</th>\n",
       "    </tr>\n",
       "  </thead>\n",
       "  <tbody>\n",
       "    <tr>\n",
       "      <td>0</td>\n",
       "      <td>1871</td>\n",
       "      <td>BS1</td>\n",
       "      <td>3</td>\n",
       "      <td>31</td>\n",
       "      <td>20</td>\n",
       "      <td>Boston Red Stockings</td>\n",
       "    </tr>\n",
       "    <tr>\n",
       "      <td>1</td>\n",
       "      <td>1871</td>\n",
       "      <td>CH1</td>\n",
       "      <td>2</td>\n",
       "      <td>28</td>\n",
       "      <td>19</td>\n",
       "      <td>Chicago White Stockings</td>\n",
       "    </tr>\n",
       "    <tr>\n",
       "      <td>2</td>\n",
       "      <td>1871</td>\n",
       "      <td>CL1</td>\n",
       "      <td>8</td>\n",
       "      <td>29</td>\n",
       "      <td>10</td>\n",
       "      <td>Cleveland Forest Citys</td>\n",
       "    </tr>\n",
       "    <tr>\n",
       "      <td>3</td>\n",
       "      <td>1871</td>\n",
       "      <td>FW1</td>\n",
       "      <td>7</td>\n",
       "      <td>19</td>\n",
       "      <td>7</td>\n",
       "      <td>Fort Wayne Kekiongas</td>\n",
       "    </tr>\n",
       "    <tr>\n",
       "      <td>4</td>\n",
       "      <td>1871</td>\n",
       "      <td>NY2</td>\n",
       "      <td>5</td>\n",
       "      <td>33</td>\n",
       "      <td>16</td>\n",
       "      <td>New York Mutuals</td>\n",
       "    </tr>\n",
       "  </tbody>\n",
       "</table>\n",
       "</div>"
      ],
      "text/plain": [
       "   yearID teamID  Rank   G   W                     name\n",
       "0    1871    BS1     3  31  20     Boston Red Stockings\n",
       "1    1871    CH1     2  28  19  Chicago White Stockings\n",
       "2    1871    CL1     8  29  10   Cleveland Forest Citys\n",
       "3    1871    FW1     7  19   7     Fort Wayne Kekiongas\n",
       "4    1871    NY2     5  33  16         New York Mutuals"
      ]
     },
     "execution_count": 3,
     "metadata": {},
     "output_type": "execute_result"
    }
   ],
   "source": [
    "teamPandas=pd.read_sql_query(\"\"\"SELECT yearID,teamID,Rank,G,W,name FROM Teams\"\"\",connection)\n",
    "teamPandas.head()"
   ]
  },
  {
   "cell_type": "code",
   "execution_count": 4,
   "metadata": {},
   "outputs": [
    {
     "data": {
      "text/html": [
       "<div>\n",
       "<style scoped>\n",
       "    .dataframe tbody tr th:only-of-type {\n",
       "        vertical-align: middle;\n",
       "    }\n",
       "\n",
       "    .dataframe tbody tr th {\n",
       "        vertical-align: top;\n",
       "    }\n",
       "\n",
       "    .dataframe thead th {\n",
       "        text-align: right;\n",
       "    }\n",
       "</style>\n",
       "<table border=\"1\" class=\"dataframe\">\n",
       "  <thead>\n",
       "    <tr style=\"text-align: right;\">\n",
       "      <th></th>\n",
       "      <th>yearID</th>\n",
       "      <th>teamID</th>\n",
       "      <th>lgID</th>\n",
       "      <th>playerID</th>\n",
       "      <th>salary</th>\n",
       "    </tr>\n",
       "  </thead>\n",
       "  <tbody>\n",
       "    <tr>\n",
       "      <td>0</td>\n",
       "      <td>1985</td>\n",
       "      <td>ATL</td>\n",
       "      <td>NL</td>\n",
       "      <td>barkele01</td>\n",
       "      <td>870000.0</td>\n",
       "    </tr>\n",
       "    <tr>\n",
       "      <td>1</td>\n",
       "      <td>1985</td>\n",
       "      <td>ATL</td>\n",
       "      <td>NL</td>\n",
       "      <td>bedrost01</td>\n",
       "      <td>550000.0</td>\n",
       "    </tr>\n",
       "    <tr>\n",
       "      <td>2</td>\n",
       "      <td>1985</td>\n",
       "      <td>ATL</td>\n",
       "      <td>NL</td>\n",
       "      <td>benedbr01</td>\n",
       "      <td>545000.0</td>\n",
       "    </tr>\n",
       "    <tr>\n",
       "      <td>3</td>\n",
       "      <td>1985</td>\n",
       "      <td>ATL</td>\n",
       "      <td>NL</td>\n",
       "      <td>campri01</td>\n",
       "      <td>633333.0</td>\n",
       "    </tr>\n",
       "    <tr>\n",
       "      <td>4</td>\n",
       "      <td>1985</td>\n",
       "      <td>ATL</td>\n",
       "      <td>NL</td>\n",
       "      <td>ceronri01</td>\n",
       "      <td>625000.0</td>\n",
       "    </tr>\n",
       "  </tbody>\n",
       "</table>\n",
       "</div>"
      ],
      "text/plain": [
       "   yearID teamID lgID   playerID    salary\n",
       "0    1985    ATL   NL  barkele01  870000.0\n",
       "1    1985    ATL   NL  bedrost01  550000.0\n",
       "2    1985    ATL   NL  benedbr01  545000.0\n",
       "3    1985    ATL   NL   campri01  633333.0\n",
       "4    1985    ATL   NL  ceronri01  625000.0"
      ]
     },
     "execution_count": 4,
     "metadata": {},
     "output_type": "execute_result"
    }
   ],
   "source": [
    "salaryPandas=pd.read_sql_query(\"\"\"SELECT * FROM Salaries\"\"\",connection)\n",
    "salaryPandas.head()"
   ]
  },
  {
   "cell_type": "code",
   "execution_count": 5,
   "metadata": {},
   "outputs": [],
   "source": [
    "dictionaryOfTeams={}\n",
    "for i in teamPandas.itertuples():\n",
    "    if i[2] not in dictionaryOfTeams:\n",
    "        #2 for teamId\n",
    "        #4 for gamePlay\n",
    "        #5 for wining\n",
    "        dictionaryOfTeams[i[2]]=[i[4],i[5],0]\n",
    "    else:\n",
    "        dictionaryOfTeams[i[2]][0]+=i[4]\n",
    "        dictionaryOfTeams[i[2]][1]+=i[5]\n",
    "#For loop to add all salaries to leagueTeams\n",
    "for i in salaryPandas.itertuples():\n",
    "    if i[2] not in dictionaryOfTeams:\n",
    "        continue\n",
    "    dictionaryOfTeams[i[2]][2]+=i[5]"
   ]
  },
  {
   "cell_type": "code",
   "execution_count": 6,
   "metadata": {},
   "outputs": [
    {
     "data": {
      "text/plain": [
       "149"
      ]
     },
     "execution_count": 6,
     "metadata": {},
     "output_type": "execute_result"
    }
   ],
   "source": [
    "len(dictionaryOfTeams)"
   ]
  },
  {
   "cell_type": "code",
   "execution_count": 7,
   "metadata": {},
   "outputs": [],
   "source": [
    "Teams=pd.DataFrame.from_dict(dictionaryOfTeams, orient='index',columns=['Playing', 'Winning','Total payRolls in million'])"
   ]
  },
  {
   "cell_type": "code",
   "execution_count": 8,
   "metadata": {},
   "outputs": [],
   "source": [
    "Teams['Total payRolls in million'] = Teams['Total payRolls in million'].astype(float)\n",
    "Teams['Total payRolls in million']/=1000000"
   ]
  },
  {
   "cell_type": "code",
   "execution_count": 9,
   "metadata": {},
   "outputs": [],
   "source": [
    "Teams['WinRate']=Teams.Winning/Teams.Playing"
   ]
  },
  {
   "cell_type": "code",
   "execution_count": 10,
   "metadata": {},
   "outputs": [
    {
     "data": {
      "text/html": [
       "<div>\n",
       "<style scoped>\n",
       "    .dataframe tbody tr th:only-of-type {\n",
       "        vertical-align: middle;\n",
       "    }\n",
       "\n",
       "    .dataframe tbody tr th {\n",
       "        vertical-align: top;\n",
       "    }\n",
       "\n",
       "    .dataframe thead th {\n",
       "        text-align: right;\n",
       "    }\n",
       "</style>\n",
       "<table border=\"1\" class=\"dataframe\">\n",
       "  <thead>\n",
       "    <tr style=\"text-align: right;\">\n",
       "      <th></th>\n",
       "      <th>Playing</th>\n",
       "      <th>Winning</th>\n",
       "      <th>Total payRolls in million</th>\n",
       "      <th>WinRate</th>\n",
       "    </tr>\n",
       "  </thead>\n",
       "  <tbody>\n",
       "    <tr>\n",
       "      <td>BS1</td>\n",
       "      <td>292</td>\n",
       "      <td>225</td>\n",
       "      <td>0.0</td>\n",
       "      <td>0.770548</td>\n",
       "    </tr>\n",
       "    <tr>\n",
       "      <td>CH1</td>\n",
       "      <td>28</td>\n",
       "      <td>19</td>\n",
       "      <td>0.0</td>\n",
       "      <td>0.678571</td>\n",
       "    </tr>\n",
       "    <tr>\n",
       "      <td>CL1</td>\n",
       "      <td>51</td>\n",
       "      <td>16</td>\n",
       "      <td>0.0</td>\n",
       "      <td>0.313725</td>\n",
       "    </tr>\n",
       "    <tr>\n",
       "      <td>FW1</td>\n",
       "      <td>19</td>\n",
       "      <td>7</td>\n",
       "      <td>0.0</td>\n",
       "      <td>0.368421</td>\n",
       "    </tr>\n",
       "    <tr>\n",
       "      <td>NY2</td>\n",
       "      <td>278</td>\n",
       "      <td>151</td>\n",
       "      <td>0.0</td>\n",
       "      <td>0.543165</td>\n",
       "    </tr>\n",
       "  </tbody>\n",
       "</table>\n",
       "</div>"
      ],
      "text/plain": [
       "     Playing  Winning  Total payRolls in million   WinRate\n",
       "BS1      292      225                        0.0  0.770548\n",
       "CH1       28       19                        0.0  0.678571\n",
       "CL1       51       16                        0.0  0.313725\n",
       "FW1       19        7                        0.0  0.368421\n",
       "NY2      278      151                        0.0  0.543165"
      ]
     },
     "execution_count": 10,
     "metadata": {},
     "output_type": "execute_result"
    }
   ],
   "source": [
    "Teams.head()"
   ]
  },
  {
   "cell_type": "code",
   "execution_count": 11,
   "metadata": {},
   "outputs": [
    {
     "data": {
      "text/plain": [
       "['NYM', 'SFG']"
      ]
     },
     "execution_count": 11,
     "metadata": {},
     "output_type": "execute_result"
    }
   ],
   "source": [
    "#those teams have different names in teamDataBase \n",
    "notFoundTeams=[]\n",
    "for i in salaryPandas.itertuples():\n",
    "     if i[2] not in dictionaryOfTeams and i[2]not in notFoundTeams:\n",
    "            notFoundTeams.append(i[2])\n",
    "notFoundTeams"
   ]
  },
  {
   "cell_type": "code",
   "execution_count": null,
   "metadata": {},
   "outputs": [],
   "source": []
  }
 ],
 "metadata": {
  "kernelspec": {
   "display_name": "Python 3",
   "language": "python",
   "name": "python3"
  },
  "language_info": {
   "codemirror_mode": {
    "name": "ipython",
    "version": 3
   },
   "file_extension": ".py",
   "mimetype": "text/x-python",
   "name": "python",
   "nbconvert_exporter": "python",
   "pygments_lexer": "ipython3",
   "version": "3.7.3"
  }
 },
 "nbformat": 4,
 "nbformat_minor": 2
}
