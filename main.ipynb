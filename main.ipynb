{
 "cells": [
  {
   "cell_type": "markdown",
   "metadata": {},
   "source": [
    "# Assigment 2"
   ]
  },
  {
   "cell_type": "markdown",
   "metadata": {},
   "source": [
    "## Analysing Data base "
   ]
  },
  {
   "cell_type": "code",
   "execution_count": 1,
   "metadata": {},
   "outputs": [],
   "source": [
    "import pandas as pd\n",
    "import sqlite3"
   ]
  },
  {
   "cell_type": "code",
   "execution_count": 2,
   "metadata": {},
   "outputs": [],
   "source": [
    "try:\n",
    "    connection=sqlite3.connect('lahman2014.sqlite')\n",
    "except Error as e:\n",
    "    print(e)"
   ]
  },
  {
   "cell_type": "code",
   "execution_count": 3,
   "metadata": {},
   "outputs": [
    {
     "data": {
      "text/html": [
       "<div>\n",
       "<style scoped>\n",
       "    .dataframe tbody tr th:only-of-type {\n",
       "        vertical-align: middle;\n",
       "    }\n",
       "\n",
       "    .dataframe tbody tr th {\n",
       "        vertical-align: top;\n",
       "    }\n",
       "\n",
       "    .dataframe thead th {\n",
       "        text-align: right;\n",
       "    }\n",
       "</style>\n",
       "<table border=\"1\" class=\"dataframe\">\n",
       "  <thead>\n",
       "    <tr style=\"text-align: right;\">\n",
       "      <th></th>\n",
       "      <th>yearID</th>\n",
       "      <th>teamID</th>\n",
       "      <th>Rank</th>\n",
       "      <th>G</th>\n",
       "      <th>W</th>\n",
       "      <th>name</th>\n",
       "    </tr>\n",
       "  </thead>\n",
       "  <tbody>\n",
       "    <tr>\n",
       "      <th>0</th>\n",
       "      <td>1985</td>\n",
       "      <td>BAL</td>\n",
       "      <td>4</td>\n",
       "      <td>161</td>\n",
       "      <td>83</td>\n",
       "      <td>Baltimore Orioles</td>\n",
       "    </tr>\n",
       "    <tr>\n",
       "      <th>1</th>\n",
       "      <td>1985</td>\n",
       "      <td>BOS</td>\n",
       "      <td>5</td>\n",
       "      <td>163</td>\n",
       "      <td>81</td>\n",
       "      <td>Boston Red Sox</td>\n",
       "    </tr>\n",
       "    <tr>\n",
       "      <th>2</th>\n",
       "      <td>1985</td>\n",
       "      <td>CAL</td>\n",
       "      <td>2</td>\n",
       "      <td>162</td>\n",
       "      <td>90</td>\n",
       "      <td>California Angels</td>\n",
       "    </tr>\n",
       "    <tr>\n",
       "      <th>3</th>\n",
       "      <td>1985</td>\n",
       "      <td>CHA</td>\n",
       "      <td>3</td>\n",
       "      <td>163</td>\n",
       "      <td>85</td>\n",
       "      <td>Chicago White Sox</td>\n",
       "    </tr>\n",
       "    <tr>\n",
       "      <th>4</th>\n",
       "      <td>1985</td>\n",
       "      <td>CLE</td>\n",
       "      <td>7</td>\n",
       "      <td>162</td>\n",
       "      <td>60</td>\n",
       "      <td>Cleveland Indians</td>\n",
       "    </tr>\n",
       "  </tbody>\n",
       "</table>\n",
       "</div>"
      ],
      "text/plain": [
       "   yearID teamID  Rank    G   W               name\n",
       "0    1985    BAL     4  161  83  Baltimore Orioles\n",
       "1    1985    BOS     5  163  81     Boston Red Sox\n",
       "2    1985    CAL     2  162  90  California Angels\n",
       "3    1985    CHA     3  163  85  Chicago White Sox\n",
       "4    1985    CLE     7  162  60  Cleveland Indians"
      ]
     },
     "execution_count": 3,
     "metadata": {},
     "output_type": "execute_result"
    }
   ],
   "source": [
    "# We found that we have only salary from period 1985 to 2014\\\n",
    "#SO,first we extracted data of teams between this period to analyze it\n",
    "teamPandas=pd.read_sql_query(\"\"\"SELECT yearID,teamID,Rank,G,W,name FROM Teams where yearID BETWEEN 1985 and 2014\"\"\",connection)\n",
    "teamPandas.head()"
   ]
  },
  {
   "cell_type": "code",
   "execution_count": 4,
   "metadata": {},
   "outputs": [
    {
     "data": {
      "text/html": [
       "<div>\n",
       "<style scoped>\n",
       "    .dataframe tbody tr th:only-of-type {\n",
       "        vertical-align: middle;\n",
       "    }\n",
       "\n",
       "    .dataframe tbody tr th {\n",
       "        vertical-align: top;\n",
       "    }\n",
       "\n",
       "    .dataframe thead th {\n",
       "        text-align: right;\n",
       "    }\n",
       "</style>\n",
       "<table border=\"1\" class=\"dataframe\">\n",
       "  <thead>\n",
       "    <tr style=\"text-align: right;\">\n",
       "      <th></th>\n",
       "      <th>yearID</th>\n",
       "      <th>teamID</th>\n",
       "      <th>lgID</th>\n",
       "      <th>playerID</th>\n",
       "      <th>salary</th>\n",
       "    </tr>\n",
       "  </thead>\n",
       "  <tbody>\n",
       "    <tr>\n",
       "      <th>0</th>\n",
       "      <td>1985</td>\n",
       "      <td>ATL</td>\n",
       "      <td>NL</td>\n",
       "      <td>barkele01</td>\n",
       "      <td>870000.0</td>\n",
       "    </tr>\n",
       "    <tr>\n",
       "      <th>1</th>\n",
       "      <td>1985</td>\n",
       "      <td>ATL</td>\n",
       "      <td>NL</td>\n",
       "      <td>bedrost01</td>\n",
       "      <td>550000.0</td>\n",
       "    </tr>\n",
       "    <tr>\n",
       "      <th>2</th>\n",
       "      <td>1985</td>\n",
       "      <td>ATL</td>\n",
       "      <td>NL</td>\n",
       "      <td>benedbr01</td>\n",
       "      <td>545000.0</td>\n",
       "    </tr>\n",
       "    <tr>\n",
       "      <th>3</th>\n",
       "      <td>1985</td>\n",
       "      <td>ATL</td>\n",
       "      <td>NL</td>\n",
       "      <td>campri01</td>\n",
       "      <td>633333.0</td>\n",
       "    </tr>\n",
       "    <tr>\n",
       "      <th>4</th>\n",
       "      <td>1985</td>\n",
       "      <td>ATL</td>\n",
       "      <td>NL</td>\n",
       "      <td>ceronri01</td>\n",
       "      <td>625000.0</td>\n",
       "    </tr>\n",
       "  </tbody>\n",
       "</table>\n",
       "</div>"
      ],
      "text/plain": [
       "   yearID teamID lgID   playerID    salary\n",
       "0    1985    ATL   NL  barkele01  870000.0\n",
       "1    1985    ATL   NL  bedrost01  550000.0\n",
       "2    1985    ATL   NL  benedbr01  545000.0\n",
       "3    1985    ATL   NL   campri01  633333.0\n",
       "4    1985    ATL   NL  ceronri01  625000.0"
      ]
     },
     "execution_count": 4,
     "metadata": {},
     "output_type": "execute_result"
    }
   ],
   "source": [
    "#Reading data of salaries\n",
    "salaryPandas=pd.read_sql_query(\"\"\"SELECT * FROM Salaries\"\"\",connection)\n",
    "salaryPandas.head()"
   ]
  },
  {
   "cell_type": "code",
   "execution_count": 5,
   "metadata": {},
   "outputs": [],
   "source": [
    "dictionaryOfTeams={}\n",
    "for i in teamPandas.itertuples():\n",
    "    if i[2] not in dictionaryOfTeams:\n",
    "        #2 for teamId\n",
    "        #4 for gamePlay\n",
    "        #5 for wining\n",
    "        dictionaryOfTeams[i[2]]=[i[4],i[5],0]\n",
    "    else:\n",
    "        dictionaryOfTeams[i[2]][0]+=i[4]\n",
    "        dictionaryOfTeams[i[2]][1]+=i[5]\n",
    "#For loop to add all salaries to leagueTeams\n",
    "for i in salaryPandas.itertuples():\n",
    "    if i[2] not in dictionaryOfTeams:\n",
    "        continue\n",
    "    dictionaryOfTeams[i[2]][2]+=i[5]"
   ]
  },
  {
   "cell_type": "code",
   "execution_count": 6,
   "metadata": {},
   "outputs": [
    {
     "data": {
      "text/plain": [
       "35"
      ]
     },
     "execution_count": 6,
     "metadata": {},
     "output_type": "execute_result"
    }
   ],
   "source": [
    "len(dictionaryOfTeams)"
   ]
  },
  {
   "cell_type": "code",
   "execution_count": 7,
   "metadata": {},
   "outputs": [],
   "source": [
    "#Just merging data by pandas to ensure that data from sql is right\n",
    "TeamPayRoll1=pd.DataFrame.from_dict(dictionaryOfTeams, orient='index',columns=['Playing', 'Winning','Total payRolls in million'])"
   ]
  },
  {
   "cell_type": "code",
   "execution_count": 8,
   "metadata": {},
   "outputs": [],
   "source": [
    "TeamPayRoll1['Total payRolls in million'] = TeamPayRoll1['Total payRolls in million'].astype(float)\n",
    "TeamPayRoll1['Total payRolls in million']/=1000000"
   ]
  },
  {
   "cell_type": "code",
   "execution_count": 9,
   "metadata": {},
   "outputs": [],
   "source": [
    "TeamPayRoll1['WinRate']=TeamPayRoll1.Winning/TeamPayRoll1.Playing"
   ]
  },
  {
   "cell_type": "code",
   "execution_count": 10,
   "metadata": {},
   "outputs": [
    {
     "data": {
      "text/html": [
       "<div>\n",
       "<style scoped>\n",
       "    .dataframe tbody tr th:only-of-type {\n",
       "        vertical-align: middle;\n",
       "    }\n",
       "\n",
       "    .dataframe tbody tr th {\n",
       "        vertical-align: top;\n",
       "    }\n",
       "\n",
       "    .dataframe thead th {\n",
       "        text-align: right;\n",
       "    }\n",
       "</style>\n",
       "<table border=\"1\" class=\"dataframe\">\n",
       "  <thead>\n",
       "    <tr style=\"text-align: right;\">\n",
       "      <th></th>\n",
       "      <th>Playing</th>\n",
       "      <th>Winning</th>\n",
       "      <th>Total payRolls in million</th>\n",
       "      <th>WinRate</th>\n",
       "    </tr>\n",
       "  </thead>\n",
       "  <tbody>\n",
       "    <tr>\n",
       "      <th>BAL</th>\n",
       "      <td>4790</td>\n",
       "      <td>2265</td>\n",
       "      <td>1630.200038</td>\n",
       "      <td>0.472860</td>\n",
       "    </tr>\n",
       "    <tr>\n",
       "      <th>BOS</th>\n",
       "      <td>4794</td>\n",
       "      <td>2576</td>\n",
       "      <td>2432.700935</td>\n",
       "      <td>0.537338</td>\n",
       "    </tr>\n",
       "    <tr>\n",
       "      <th>CAL</th>\n",
       "      <td>1879</td>\n",
       "      <td>922</td>\n",
       "      <td>271.978930</td>\n",
       "      <td>0.490687</td>\n",
       "    </tr>\n",
       "    <tr>\n",
       "      <th>CHA</th>\n",
       "      <td>4794</td>\n",
       "      <td>2435</td>\n",
       "      <td>1699.865143</td>\n",
       "      <td>0.507927</td>\n",
       "    </tr>\n",
       "    <tr>\n",
       "      <th>CLE</th>\n",
       "      <td>4792</td>\n",
       "      <td>2389</td>\n",
       "      <td>1405.016128</td>\n",
       "      <td>0.498539</td>\n",
       "    </tr>\n",
       "  </tbody>\n",
       "</table>\n",
       "</div>"
      ],
      "text/plain": [
       "     Playing  Winning  Total payRolls in million   WinRate\n",
       "BAL     4790     2265                1630.200038  0.472860\n",
       "BOS     4794     2576                2432.700935  0.537338\n",
       "CAL     1879      922                 271.978930  0.490687\n",
       "CHA     4794     2435                1699.865143  0.507927\n",
       "CLE     4792     2389                1405.016128  0.498539"
      ]
     },
     "execution_count": 10,
     "metadata": {},
     "output_type": "execute_result"
    }
   ],
   "source": [
    "TeamPayRoll1.head()"
   ]
  },
  {
   "cell_type": "code",
   "execution_count": 11,
   "metadata": {},
   "outputs": [
    {
     "data": {
      "text/plain": [
       "['NYM', 'SFG']"
      ]
     },
     "execution_count": 11,
     "metadata": {},
     "output_type": "execute_result"
    }
   ],
   "source": [
    "#those teams have different names in teamDataBase and salary data base \n",
    "notFoundTeams=[]\n",
    "for i in salaryPandas.itertuples():\n",
    "     if i[2] not in dictionaryOfTeams and i[2]not in notFoundTeams:\n",
    "            notFoundTeams.append(i[2])\n",
    "notFoundTeams"
   ]
  },
  {
   "cell_type": "markdown",
   "metadata": {},
   "source": [
    "## Part 1"
   ]
  },
  {
   "cell_type": "code",
   "execution_count": 12,
   "metadata": {},
   "outputs": [],
   "source": [
    "teamPayRoll2=pd.read_sql_query(\"\"\" \n",
    "SELECT Teams.teamID,Teams.name, CAST(sum(Teams.W) AS FLOAT)/CAST(sum(Teams.G) AS FLOAT) AS 'WinningRatio', sum(salary)/1000000 AS 'Total Pay in Million'\n",
    "FROM Teams Left join Salaries\n",
    "ON Teams.teamID = Salaries.teamID And Teams.yearID = Salaries.yearID\n",
    "GROUP BY Teams.teamID\n",
    "\"\"\",connection)"
   ]
  },
  {
   "cell_type": "code",
   "execution_count": 13,
   "metadata": {
    "scrolled": true
   },
   "outputs": [
    {
     "data": {
      "text/html": [
       "<div>\n",
       "<style scoped>\n",
       "    .dataframe tbody tr th:only-of-type {\n",
       "        vertical-align: middle;\n",
       "    }\n",
       "\n",
       "    .dataframe tbody tr th {\n",
       "        vertical-align: top;\n",
       "    }\n",
       "\n",
       "    .dataframe thead th {\n",
       "        text-align: right;\n",
       "    }\n",
       "</style>\n",
       "<table border=\"1\" class=\"dataframe\">\n",
       "  <thead>\n",
       "    <tr style=\"text-align: right;\">\n",
       "      <th></th>\n",
       "      <th>teamID</th>\n",
       "      <th>name</th>\n",
       "      <th>WinningRatio</th>\n",
       "      <th>Total Pay in Million</th>\n",
       "    </tr>\n",
       "  </thead>\n",
       "  <tbody>\n",
       "    <tr>\n",
       "      <th>0</th>\n",
       "      <td>ALT</td>\n",
       "      <td>Altoona Mountain City</td>\n",
       "      <td>0.240000</td>\n",
       "      <td>NaN</td>\n",
       "    </tr>\n",
       "    <tr>\n",
       "      <th>1</th>\n",
       "      <td>ANA</td>\n",
       "      <td>Anaheim Angels</td>\n",
       "      <td>0.508297</td>\n",
       "      <td>468.091973</td>\n",
       "    </tr>\n",
       "    <tr>\n",
       "      <th>2</th>\n",
       "      <td>ARI</td>\n",
       "      <td>Arizona Diamondbacks</td>\n",
       "      <td>0.493687</td>\n",
       "      <td>1209.975228</td>\n",
       "    </tr>\n",
       "    <tr>\n",
       "      <th>3</th>\n",
       "      <td>ATL</td>\n",
       "      <td>Atlanta Braves</td>\n",
       "      <td>0.540464</td>\n",
       "      <td>1882.946784</td>\n",
       "    </tr>\n",
       "    <tr>\n",
       "      <th>4</th>\n",
       "      <td>BAL</td>\n",
       "      <td>Baltimore Orioles</td>\n",
       "      <td>0.476154</td>\n",
       "      <td>1630.200038</td>\n",
       "    </tr>\n",
       "  </tbody>\n",
       "</table>\n",
       "</div>"
      ],
      "text/plain": [
       "  teamID                   name  WinningRatio  Total Pay in Million\n",
       "0    ALT  Altoona Mountain City      0.240000                   NaN\n",
       "1    ANA         Anaheim Angels      0.508297            468.091973\n",
       "2    ARI   Arizona Diamondbacks      0.493687           1209.975228\n",
       "3    ATL         Atlanta Braves      0.540464           1882.946784\n",
       "4    BAL      Baltimore Orioles      0.476154           1630.200038"
      ]
     },
     "execution_count": 13,
     "metadata": {},
     "output_type": "execute_result"
    }
   ],
   "source": [
    "teamPayRoll2.head()"
   ]
  },
  {
   "cell_type": "code",
   "execution_count": 14,
   "metadata": {},
   "outputs": [
    {
     "data": {
      "text/html": [
       "<div>\n",
       "<style scoped>\n",
       "    .dataframe tbody tr th:only-of-type {\n",
       "        vertical-align: middle;\n",
       "    }\n",
       "\n",
       "    .dataframe tbody tr th {\n",
       "        vertical-align: top;\n",
       "    }\n",
       "\n",
       "    .dataframe thead th {\n",
       "        text-align: right;\n",
       "    }\n",
       "</style>\n",
       "<table border=\"1\" class=\"dataframe\">\n",
       "  <thead>\n",
       "    <tr style=\"text-align: right;\">\n",
       "      <th></th>\n",
       "      <th>teamID</th>\n",
       "      <th>name</th>\n",
       "      <th>WinningRatio</th>\n",
       "      <th>Total Pay in Million</th>\n",
       "    </tr>\n",
       "  </thead>\n",
       "  <tbody>\n",
       "    <tr>\n",
       "      <th>116</th>\n",
       "      <td>SFN</td>\n",
       "      <td>San Francisco Giants</td>\n",
       "      <td>0.519432</td>\n",
       "      <td>1696.242921</td>\n",
       "    </tr>\n",
       "  </tbody>\n",
       "</table>\n",
       "</div>"
      ],
      "text/plain": [
       "    teamID                  name  WinningRatio  Total Pay in Million\n",
       "116    SFN  San Francisco Giants      0.519432           1696.242921"
      ]
     },
     "execution_count": 14,
     "metadata": {},
     "output_type": "execute_result"
    }
   ],
   "source": [
    "teamPayRoll2.loc[teamPayRoll2.teamID=='SFN']"
   ]
  },
  {
   "cell_type": "code",
   "execution_count": 15,
   "metadata": {},
   "outputs": [
    {
     "data": {
      "text/html": [
       "<div>\n",
       "<style scoped>\n",
       "    .dataframe tbody tr th:only-of-type {\n",
       "        vertical-align: middle;\n",
       "    }\n",
       "\n",
       "    .dataframe tbody tr th {\n",
       "        vertical-align: top;\n",
       "    }\n",
       "\n",
       "    .dataframe thead th {\n",
       "        text-align: right;\n",
       "    }\n",
       "</style>\n",
       "<table border=\"1\" class=\"dataframe\">\n",
       "  <thead>\n",
       "    <tr style=\"text-align: right;\">\n",
       "      <th></th>\n",
       "      <th>teamID</th>\n",
       "      <th>name</th>\n",
       "      <th>WinningRatio</th>\n",
       "      <th>Total Pay in Million</th>\n",
       "    </tr>\n",
       "  </thead>\n",
       "  <tbody>\n",
       "    <tr>\n",
       "      <th>116</th>\n",
       "      <td>SFN</td>\n",
       "      <td>San Francisco Giants</td>\n",
       "      <td>0.519432</td>\n",
       "      <td>1696.242921</td>\n",
       "    </tr>\n",
       "  </tbody>\n",
       "</table>\n",
       "</div>"
      ],
      "text/plain": [
       "    teamID                  name  WinningRatio  Total Pay in Million\n",
       "116    SFN  San Francisco Giants      0.519432           1696.242921"
      ]
     },
     "execution_count": 15,
     "metadata": {},
     "output_type": "execute_result"
    }
   ],
   "source": [
    "teamPayRoll2.loc[teamPayRoll2.teamID=='SFN']\n"
   ]
  },
  {
   "cell_type": "code",
   "execution_count": 16,
   "metadata": {},
   "outputs": [
    {
     "data": {
      "text/html": [
       "<div>\n",
       "<style scoped>\n",
       "    .dataframe tbody tr th:only-of-type {\n",
       "        vertical-align: middle;\n",
       "    }\n",
       "\n",
       "    .dataframe tbody tr th {\n",
       "        vertical-align: top;\n",
       "    }\n",
       "\n",
       "    .dataframe thead th {\n",
       "        text-align: right;\n",
       "    }\n",
       "</style>\n",
       "<table border=\"1\" class=\"dataframe\">\n",
       "  <thead>\n",
       "    <tr style=\"text-align: right;\">\n",
       "      <th></th>\n",
       "      <th>teamID</th>\n",
       "      <th>name</th>\n",
       "      <th>WinningRatio</th>\n",
       "      <th>Total Pay in Million</th>\n",
       "    </tr>\n",
       "  </thead>\n",
       "  <tbody>\n",
       "    <tr>\n",
       "      <th>93</th>\n",
       "      <td>NYN</td>\n",
       "      <td>New York Mets</td>\n",
       "      <td>0.508664</td>\n",
       "      <td>1965.737231</td>\n",
       "    </tr>\n",
       "  </tbody>\n",
       "</table>\n",
       "</div>"
      ],
      "text/plain": [
       "   teamID           name  WinningRatio  Total Pay in Million\n",
       "93    NYN  New York Mets      0.508664           1965.737231"
      ]
     },
     "execution_count": 16,
     "metadata": {},
     "output_type": "execute_result"
    }
   ],
   "source": [
    "teamPayRoll2.loc[teamPayRoll2.teamID=='NYN']"
   ]
  },
  {
   "cell_type": "code",
   "execution_count": 17,
   "metadata": {},
   "outputs": [],
   "source": [
    "teamPayRoll2=teamPayRoll2.drop(teamPayRoll2.index[93])\n",
    "teamPayRoll2=teamPayRoll2.drop(teamPayRoll2.index[116])"
   ]
  },
  {
   "cell_type": "code",
   "execution_count": 18,
   "metadata": {},
   "outputs": [],
   "source": [
    "newSfn=pd.read_sql_query(\"\"\" \n",
    "SELECT Teams.teamID,name,Cast(sum(w) AS FLOAT)/sum(g) as'WinningRatio',sum(salary)/1000000 AS 'Total Pay in Million'\n",
    "FROM Teams,Salaries\n",
    "where (teamidbr='SFG' or teamidbr='NYM' )and teams.yearID=Salaries.yearID AND (teams.teamID=Salaries.teamID or Salaries.teamid=teams.teamidbr)and Teams.yearid between 1985 and 2014\n",
    "group by teamidbr\n",
    "\"\"\",connection)"
   ]
  },
  {
   "cell_type": "code",
   "execution_count": 19,
   "metadata": {},
   "outputs": [
    {
     "data": {
      "text/html": [
       "<div>\n",
       "<style scoped>\n",
       "    .dataframe tbody tr th:only-of-type {\n",
       "        vertical-align: middle;\n",
       "    }\n",
       "\n",
       "    .dataframe tbody tr th {\n",
       "        vertical-align: top;\n",
       "    }\n",
       "\n",
       "    .dataframe thead th {\n",
       "        text-align: right;\n",
       "    }\n",
       "</style>\n",
       "<table border=\"1\" class=\"dataframe\">\n",
       "  <thead>\n",
       "    <tr style=\"text-align: right;\">\n",
       "      <th></th>\n",
       "      <th>teamID</th>\n",
       "      <th>name</th>\n",
       "      <th>WinningRatio</th>\n",
       "      <th>Total Pay in Million</th>\n",
       "    </tr>\n",
       "  </thead>\n",
       "  <tbody>\n",
       "    <tr>\n",
       "      <th>0</th>\n",
       "      <td>NYN</td>\n",
       "      <td>New York Mets</td>\n",
       "      <td>0.510081</td>\n",
       "      <td>2020.544221</td>\n",
       "    </tr>\n",
       "    <tr>\n",
       "      <th>1</th>\n",
       "      <td>SFN</td>\n",
       "      <td>San Francisco Giants</td>\n",
       "      <td>0.520245</td>\n",
       "      <td>1839.753088</td>\n",
       "    </tr>\n",
       "  </tbody>\n",
       "</table>\n",
       "</div>"
      ],
      "text/plain": [
       "  teamID                  name  WinningRatio  Total Pay in Million\n",
       "0    NYN         New York Mets      0.510081           2020.544221\n",
       "1    SFN  San Francisco Giants      0.520245           1839.753088"
      ]
     },
     "execution_count": 19,
     "metadata": {},
     "output_type": "execute_result"
    }
   ],
   "source": [
    "newSfn"
   ]
  },
  {
   "cell_type": "code",
   "execution_count": 20,
   "metadata": {},
   "outputs": [],
   "source": [
    "lastPayRoll=pd.concat([teamPayRoll2, newSfn])"
   ]
  },
  {
   "cell_type": "code",
   "execution_count": 21,
   "metadata": {},
   "outputs": [],
   "source": [
    "lastPayRoll.to_csv('lastPayRoll.csv')"
   ]
  },
  {
   "cell_type": "code",
   "execution_count": 22,
   "metadata": {},
   "outputs": [
    {
     "data": {
      "text/html": [
       "<div>\n",
       "<style scoped>\n",
       "    .dataframe tbody tr th:only-of-type {\n",
       "        vertical-align: middle;\n",
       "    }\n",
       "\n",
       "    .dataframe tbody tr th {\n",
       "        vertical-align: top;\n",
       "    }\n",
       "\n",
       "    .dataframe thead th {\n",
       "        text-align: right;\n",
       "    }\n",
       "</style>\n",
       "<table border=\"1\" class=\"dataframe\">\n",
       "  <thead>\n",
       "    <tr style=\"text-align: right;\">\n",
       "      <th></th>\n",
       "      <th>teamID</th>\n",
       "      <th>name</th>\n",
       "      <th>WinningRatio</th>\n",
       "      <th>Total Pay in Million</th>\n",
       "    </tr>\n",
       "  </thead>\n",
       "  <tbody>\n",
       "    <tr>\n",
       "      <th>0</th>\n",
       "      <td>ALT</td>\n",
       "      <td>Altoona Mountain City</td>\n",
       "      <td>0.240000</td>\n",
       "      <td>NaN</td>\n",
       "    </tr>\n",
       "    <tr>\n",
       "      <th>1</th>\n",
       "      <td>ANA</td>\n",
       "      <td>Anaheim Angels</td>\n",
       "      <td>0.508297</td>\n",
       "      <td>468.091973</td>\n",
       "    </tr>\n",
       "    <tr>\n",
       "      <th>2</th>\n",
       "      <td>ARI</td>\n",
       "      <td>Arizona Diamondbacks</td>\n",
       "      <td>0.493687</td>\n",
       "      <td>1209.975228</td>\n",
       "    </tr>\n",
       "    <tr>\n",
       "      <th>3</th>\n",
       "      <td>ATL</td>\n",
       "      <td>Atlanta Braves</td>\n",
       "      <td>0.540464</td>\n",
       "      <td>1882.946784</td>\n",
       "    </tr>\n",
       "    <tr>\n",
       "      <th>4</th>\n",
       "      <td>BAL</td>\n",
       "      <td>Baltimore Orioles</td>\n",
       "      <td>0.476154</td>\n",
       "      <td>1630.200038</td>\n",
       "    </tr>\n",
       "  </tbody>\n",
       "</table>\n",
       "</div>"
      ],
      "text/plain": [
       "  teamID                   name  WinningRatio  Total Pay in Million\n",
       "0    ALT  Altoona Mountain City      0.240000                   NaN\n",
       "1    ANA         Anaheim Angels      0.508297            468.091973\n",
       "2    ARI   Arizona Diamondbacks      0.493687           1209.975228\n",
       "3    ATL         Atlanta Braves      0.540464           1882.946784\n",
       "4    BAL      Baltimore Orioles      0.476154           1630.200038"
      ]
     },
     "execution_count": 22,
     "metadata": {},
     "output_type": "execute_result"
    }
   ],
   "source": [
    "lastPayRoll.head()"
   ]
  },
  {
   "cell_type": "code",
   "execution_count": 25,
   "metadata": {},
   "outputs": [
    {
     "data": {
      "text/html": [
       "<div>\n",
       "<style scoped>\n",
       "    .dataframe tbody tr th:only-of-type {\n",
       "        vertical-align: middle;\n",
       "    }\n",
       "\n",
       "    .dataframe tbody tr th {\n",
       "        vertical-align: top;\n",
       "    }\n",
       "\n",
       "    .dataframe thead th {\n",
       "        text-align: right;\n",
       "    }\n",
       "</style>\n",
       "<table border=\"1\" class=\"dataframe\">\n",
       "  <thead>\n",
       "    <tr style=\"text-align: right;\">\n",
       "      <th></th>\n",
       "      <th>teamID</th>\n",
       "      <th>name</th>\n",
       "      <th>WinningRatio</th>\n",
       "      <th>Total Pay in Million</th>\n",
       "    </tr>\n",
       "  </thead>\n",
       "  <tbody>\n",
       "    <tr>\n",
       "      <th>1</th>\n",
       "      <td>ANA</td>\n",
       "      <td>Anaheim Angels</td>\n",
       "      <td>0.508297</td>\n",
       "      <td>468.091973</td>\n",
       "    </tr>\n",
       "    <tr>\n",
       "      <th>2</th>\n",
       "      <td>ARI</td>\n",
       "      <td>Arizona Diamondbacks</td>\n",
       "      <td>0.493687</td>\n",
       "      <td>1209.975228</td>\n",
       "    </tr>\n",
       "    <tr>\n",
       "      <th>3</th>\n",
       "      <td>ATL</td>\n",
       "      <td>Atlanta Braves</td>\n",
       "      <td>0.540464</td>\n",
       "      <td>1882.946784</td>\n",
       "    </tr>\n",
       "    <tr>\n",
       "      <th>4</th>\n",
       "      <td>BAL</td>\n",
       "      <td>Baltimore Orioles</td>\n",
       "      <td>0.476154</td>\n",
       "      <td>1630.200038</td>\n",
       "    </tr>\n",
       "    <tr>\n",
       "      <th>15</th>\n",
       "      <td>BOS</td>\n",
       "      <td>Boston Americans</td>\n",
       "      <td>0.534566</td>\n",
       "      <td>2432.700935</td>\n",
       "    </tr>\n",
       "  </tbody>\n",
       "</table>\n",
       "</div>"
      ],
      "text/plain": [
       "   teamID                  name  WinningRatio  Total Pay in Million\n",
       "1     ANA        Anaheim Angels      0.508297            468.091973\n",
       "2     ARI  Arizona Diamondbacks      0.493687           1209.975228\n",
       "3     ATL        Atlanta Braves      0.540464           1882.946784\n",
       "4     BAL     Baltimore Orioles      0.476154           1630.200038\n",
       "15    BOS      Boston Americans      0.534566           2432.700935"
      ]
     },
     "execution_count": 25,
     "metadata": {},
     "output_type": "execute_result"
    }
   ],
   "source": [
    "df = lastPayRoll.dropna();df.head()"
   ]
  },
  {
   "cell_type": "code",
   "execution_count": 29,
   "metadata": {},
   "outputs": [
    {
     "data": {
      "application/vnd.plotly.v1+json": {
       "config": {
        "plotlyServerURL": "https://plot.ly"
       },
       "data": [
        {
         "hovertemplate": "name=Anaheim Angels<br>Total Pay in Million=%{x}<br>WinningRatio=%{y}<extra></extra>",
         "legendgroup": "Anaheim Angels",
         "marker": {
          "color": "#636efa",
          "symbol": "circle"
         },
         "mode": "markers",
         "name": "Anaheim Angels",
         "showlegend": true,
         "type": "scatter",
         "x": [
          468.091973
         ],
         "xaxis": "x",
         "y": [
          0.5082970960163943
         ],
         "yaxis": "y"
        },
        {
         "hovertemplate": "name=Arizona Diamondbacks<br>Total Pay in Million=%{x}<br>WinningRatio=%{y}<extra></extra>",
         "legendgroup": "Arizona Diamondbacks",
         "marker": {
          "color": "#EF553B",
          "symbol": "circle"
         },
         "mode": "markers",
         "name": "Arizona Diamondbacks",
         "showlegend": true,
         "type": "scatter",
         "x": [
          1209.975228
         ],
         "xaxis": "x",
         "y": [
          0.4936868686868687
         ],
         "yaxis": "y"
        },
        {
         "hovertemplate": "name=Atlanta Braves<br>Total Pay in Million=%{x}<br>WinningRatio=%{y}<extra></extra>",
         "legendgroup": "Atlanta Braves",
         "marker": {
          "color": "#00cc96",
          "symbol": "circle"
         },
         "mode": "markers",
         "name": "Atlanta Braves",
         "showlegend": true,
         "type": "scatter",
         "x": [
          1882.946784
         ],
         "xaxis": "x",
         "y": [
          0.5404639908909764
         ],
         "yaxis": "y"
        },
        {
         "hovertemplate": "name=Baltimore Orioles<br>Total Pay in Million=%{x}<br>WinningRatio=%{y}<extra></extra>",
         "legendgroup": "Baltimore Orioles",
         "marker": {
          "color": "#ab63fa",
          "symbol": "circle"
         },
         "mode": "markers",
         "name": "Baltimore Orioles",
         "showlegend": true,
         "type": "scatter",
         "x": [
          1630.200038
         ],
         "xaxis": "x",
         "y": [
          0.47615418940720144
         ],
         "yaxis": "y"
        },
        {
         "hovertemplate": "name=Boston Americans<br>Total Pay in Million=%{x}<br>WinningRatio=%{y}<extra></extra>",
         "legendgroup": "Boston Americans",
         "marker": {
          "color": "#FFA15A",
          "symbol": "circle"
         },
         "mode": "markers",
         "name": "Boston Americans",
         "showlegend": true,
         "type": "scatter",
         "x": [
          2432.700935
         ],
         "xaxis": "x",
         "y": [
          0.5345659842908467
         ],
         "yaxis": "y"
        },
        {
         "hovertemplate": "name=California Angels<br>Total Pay in Million=%{x}<br>WinningRatio=%{y}<extra></extra>",
         "legendgroup": "California Angels",
         "marker": {
          "color": "#19d3f3",
          "symbol": "circle"
         },
         "mode": "markers",
         "name": "California Angels",
         "showlegend": true,
         "type": "scatter",
         "x": [
          271.97893
         ],
         "xaxis": "x",
         "y": [
          0.4878322047023545
         ],
         "yaxis": "y"
        },
        {
         "hovertemplate": "name=Chicago White Sox<br>Total Pay in Million=%{x}<br>WinningRatio=%{y}<extra></extra>",
         "legendgroup": "Chicago White Sox",
         "marker": {
          "color": "#FF6692",
          "symbol": "circle"
         },
         "mode": "markers",
         "name": "Chicago White Sox",
         "showlegend": true,
         "type": "scatter",
         "x": [
          1699.865143
         ],
         "xaxis": "x",
         "y": [
          0.5076625603815224
         ],
         "yaxis": "y"
        },
        {
         "hovertemplate": "name=Chicago White Stockings<br>Total Pay in Million=%{x}<br>WinningRatio=%{y}<extra></extra>",
         "legendgroup": "Chicago White Stockings",
         "marker": {
          "color": "#B6E880",
          "symbol": "circle"
         },
         "mode": "markers",
         "name": "Chicago White Stockings",
         "showlegend": true,
         "type": "scatter",
         "x": [
          1859.833315
         ],
         "xaxis": "x",
         "y": [
          0.4803006842154021
         ],
         "yaxis": "y"
        },
        {
         "hovertemplate": "name=Cincinnati Reds<br>Total Pay in Million=%{x}<br>WinningRatio=%{y}<extra></extra>",
         "legendgroup": "Cincinnati Reds",
         "marker": {
          "color": "#FF97FF",
          "symbol": "circle"
         },
         "mode": "markers",
         "name": "Cincinnati Reds",
         "showlegend": true,
         "type": "scatter",
         "x": [
          1434.775348
         ],
         "xaxis": "x",
         "y": [
          0.5025300688957223
         ],
         "yaxis": "y"
        },
        {
         "hovertemplate": "name=Cleveland Blues<br>Total Pay in Million=%{x}<br>WinningRatio=%{y}<extra></extra>",
         "legendgroup": "Cleveland Blues",
         "marker": {
          "color": "#FECB52",
          "symbol": "circle"
         },
         "mode": "markers",
         "name": "Cleveland Blues",
         "showlegend": true,
         "type": "scatter",
         "x": [
          1405.016128
         ],
         "xaxis": "x",
         "y": [
          0.5030039602047716
         ],
         "yaxis": "y"
        },
        {
         "hovertemplate": "name=Colorado Rockies<br>Total Pay in Million=%{x}<br>WinningRatio=%{y}<extra></extra>",
         "legendgroup": "Colorado Rockies",
         "marker": {
          "color": "#636efa",
          "symbol": "circle"
         },
         "mode": "markers",
         "name": "Colorado Rockies",
         "showlegend": true,
         "type": "scatter",
         "x": [
          1293.910639
         ],
         "xaxis": "x",
         "y": [
          0.46838048780487807
         ],
         "yaxis": "y"
        },
        {
         "hovertemplate": "name=Detroit Tigers<br>Total Pay in Million=%{x}<br>WinningRatio=%{y}<extra></extra>",
         "legendgroup": "Detroit Tigers",
         "marker": {
          "color": "#EF553B",
          "symbol": "circle"
         },
         "mode": "markers",
         "name": "Detroit Tigers",
         "showlegend": true,
         "type": "scatter",
         "x": [
          1771.197687
         ],
         "xaxis": "x",
         "y": [
          0.47835107649399683
         ],
         "yaxis": "y"
        },
        {
         "hovertemplate": "name=Florida Marlins<br>Total Pay in Million=%{x}<br>WinningRatio=%{y}<extra></extra>",
         "legendgroup": "Florida Marlins",
         "marker": {
          "color": "#00cc96",
          "symbol": "circle"
         },
         "mode": "markers",
         "name": "Florida Marlins",
         "showlegend": true,
         "type": "scatter",
         "x": [
          675.016005
         ],
         "xaxis": "x",
         "y": [
          0.47223270406348045
         ],
         "yaxis": "y"
        },
        {
         "hovertemplate": "name=Houston Colt .45's<br>Total Pay in Million=%{x}<br>WinningRatio=%{y}<extra></extra>",
         "legendgroup": "Houston Colt .45's",
         "marker": {
          "color": "#ab63fa",
          "symbol": "circle"
         },
         "mode": "markers",
         "name": "Houston Colt .45's",
         "showlegend": true,
         "type": "scatter",
         "x": [
          1408.093157
         ],
         "xaxis": "x",
         "y": [
          0.49808684325436475
         ],
         "yaxis": "y"
        },
        {
         "hovertemplate": "name=Kansas City Royals<br>Total Pay in Million=%{x}<br>WinningRatio=%{y}<extra></extra>",
         "legendgroup": "Kansas City Royals",
         "marker": {
          "color": "#FFA15A",
          "symbol": "circle"
         },
         "mode": "markers",
         "name": "Kansas City Royals",
         "showlegend": true,
         "type": "scatter",
         "x": [
          1177.466968
         ],
         "xaxis": "x",
         "y": [
          0.4593568116799842
         ],
         "yaxis": "y"
        },
        {
         "hovertemplate": "name=Los Angeles Angels<br>Total Pay in Million=%{x}<br>WinningRatio=%{y}<extra></extra>",
         "legendgroup": "Los Angeles Angels",
         "marker": {
          "color": "#19d3f3",
          "symbol": "circle"
         },
         "mode": "markers",
         "name": "Los Angeles Angels",
         "showlegend": true,
         "type": "scatter",
         "x": [
          1184.671686
         ],
         "xaxis": "x",
         "y": [
          0.5584711677026649
         ],
         "yaxis": "y"
        },
        {
         "hovertemplate": "name=Los Angeles Dodgers<br>Total Pay in Million=%{x}<br>WinningRatio=%{y}<extra></extra>",
         "legendgroup": "Los Angeles Dodgers",
         "marker": {
          "color": "#FF6692",
          "symbol": "circle"
         },
         "mode": "markers",
         "name": "Los Angeles Dodgers",
         "showlegend": true,
         "type": "scatter",
         "x": [
          2237.766703
         ],
         "xaxis": "x",
         "y": [
          0.5227111620044713
         ],
         "yaxis": "y"
        },
        {
         "hovertemplate": "name=Miami Marlins<br>Total Pay in Million=%{x}<br>WinningRatio=%{y}<extra></extra>",
         "legendgroup": "Miami Marlins",
         "marker": {
          "color": "#B6E880",
          "symbol": "circle"
         },
         "mode": "markers",
         "name": "Miami Marlins",
         "showlegend": true,
         "type": "scatter",
         "x": [
          193.5168
         ],
         "xaxis": "x",
         "y": [
          0.42972459639126304
         ],
         "yaxis": "y"
        },
        {
         "hovertemplate": "name=Milwaukee Brewers<br>Total Pay in Million=%{x}<br>WinningRatio=%{y}<extra></extra>",
         "legendgroup": "Milwaukee Brewers",
         "marker": {
          "color": "#FF97FF",
          "symbol": "circle"
         },
         "mode": "markers",
         "name": "Milwaukee Brewers",
         "showlegend": true,
         "type": "scatter",
         "x": [
          1048.161053,
          233.645804
         ],
         "xaxis": "x",
         "y": [
          0.47227772549727354,
          0.48818694184713274
         ],
         "yaxis": "y"
        },
        {
         "hovertemplate": "name=Minnesota Twins<br>Total Pay in Million=%{x}<br>WinningRatio=%{y}<extra></extra>",
         "legendgroup": "Minnesota Twins",
         "marker": {
          "color": "#FECB52",
          "symbol": "circle"
         },
         "mode": "markers",
         "name": "Minnesota Twins",
         "showlegend": true,
         "type": "scatter",
         "x": [
          1270.237124
         ],
         "xaxis": "x",
         "y": [
          0.48641880031475093
         ],
         "yaxis": "y"
        },
        {
         "hovertemplate": "name=Montreal Expos<br>Total Pay in Million=%{x}<br>WinningRatio=%{y}<extra></extra>",
         "legendgroup": "Montreal Expos",
         "marker": {
          "color": "#636efa",
          "symbol": "circle"
         },
         "mode": "markers",
         "name": "Montreal Expos",
         "showlegend": true,
         "type": "scatter",
         "x": [
          408.203761
         ],
         "xaxis": "x",
         "y": [
          0.4901445885604933
         ],
         "yaxis": "y"
        },
        {
         "hovertemplate": "name=New York Highlanders<br>Total Pay in Million=%{x}<br>WinningRatio=%{y}<extra></extra>",
         "legendgroup": "New York Highlanders",
         "marker": {
          "color": "#EF553B",
          "symbol": "circle"
         },
         "mode": "markers",
         "name": "New York Highlanders",
         "showlegend": true,
         "type": "scatter",
         "x": [
          3283.119334
         ],
         "xaxis": "x",
         "y": [
          0.5637825646389697
         ],
         "yaxis": "y"
        },
        {
         "hovertemplate": "name=Oakland Athletics<br>Total Pay in Million=%{x}<br>WinningRatio=%{y}<extra></extra>",
         "legendgroup": "Oakland Athletics",
         "marker": {
          "color": "#00cc96",
          "symbol": "circle"
         },
         "mode": "markers",
         "name": "Oakland Athletics",
         "showlegend": true,
         "type": "scatter",
         "x": [
          1186.554453
         ],
         "xaxis": "x",
         "y": [
          0.5237895590074698
         ],
         "yaxis": "y"
        },
        {
         "hovertemplate": "name=Philadelphia Quakers<br>Total Pay in Million=%{x}<br>WinningRatio=%{y}<extra></extra>",
         "legendgroup": "Philadelphia Quakers",
         "marker": {
          "color": "#ab63fa",
          "symbol": "circle"
         },
         "mode": "markers",
         "name": "Philadelphia Quakers",
         "showlegend": true,
         "type": "scatter",
         "x": [
          1982.3558
         ],
         "xaxis": "x",
         "y": [
          0.49134127789046655
         ],
         "yaxis": "y"
        },
        {
         "hovertemplate": "name=Pittsburg Alleghenys<br>Total Pay in Million=%{x}<br>WinningRatio=%{y}<extra></extra>",
         "legendgroup": "Pittsburg Alleghenys",
         "marker": {
          "color": "#FFA15A",
          "symbol": "circle"
         },
         "mode": "markers",
         "name": "Pittsburg Alleghenys",
         "showlegend": true,
         "type": "scatter",
         "x": [
          994.547218
         ],
         "xaxis": "x",
         "y": [
          0.4673594715588755
         ],
         "yaxis": "y"
        },
        {
         "hovertemplate": "name=San Diego Padres<br>Total Pay in Million=%{x}<br>WinningRatio=%{y}<extra></extra>",
         "legendgroup": "San Diego Padres",
         "marker": {
          "color": "#19d3f3",
          "symbol": "circle"
         },
         "mode": "markers",
         "name": "San Diego Padres",
         "showlegend": true,
         "type": "scatter",
         "x": [
          1177.499962
         ],
         "xaxis": "x",
         "y": [
          0.478580842802693
         ],
         "yaxis": "y"
        },
        {
         "hovertemplate": "name=Seattle Mariners<br>Total Pay in Million=%{x}<br>WinningRatio=%{y}<extra></extra>",
         "legendgroup": "Seattle Mariners",
         "marker": {
          "color": "#FF6692",
          "symbol": "circle"
         },
         "mode": "markers",
         "name": "Seattle Mariners",
         "showlegend": true,
         "type": "scatter",
         "x": [
          1673.143431
         ],
         "xaxis": "x",
         "y": [
          0.4846972672109607
         ],
         "yaxis": "y"
        },
        {
         "hovertemplate": "name=San Francisco Giants<br>Total Pay in Million=%{x}<br>WinningRatio=%{y}<extra></extra>",
         "legendgroup": "San Francisco Giants",
         "marker": {
          "color": "#B6E880",
          "symbol": "circle"
         },
         "mode": "markers",
         "name": "San Francisco Giants",
         "showlegend": true,
         "type": "scatter",
         "x": [
          1696.242921,
          1839.753088
         ],
         "xaxis": "x",
         "y": [
          0.5194319603734608,
          0.5202447723203054
         ],
         "yaxis": "y"
        },
        {
         "hovertemplate": "name=St. Louis Browns<br>Total Pay in Million=%{x}<br>WinningRatio=%{y}<extra></extra>",
         "legendgroup": "St. Louis Browns",
         "marker": {
          "color": "#FF97FF",
          "symbol": "circle"
         },
         "mode": "markers",
         "name": "St. Louis Browns",
         "showlegend": true,
         "type": "scatter",
         "x": [
          1775.631332
         ],
         "xaxis": "x",
         "y": [
          0.5268120363531263
         ],
         "yaxis": "y"
        },
        {
         "hovertemplate": "name=Tampa Bay Devil Rays<br>Total Pay in Million=%{x}<br>WinningRatio=%{y}<extra></extra>",
         "legendgroup": "Tampa Bay Devil Rays",
         "marker": {
          "color": "#FECB52",
          "symbol": "circle"
         },
         "mode": "markers",
         "name": "Tampa Bay Devil Rays",
         "showlegend": true,
         "type": "scatter",
         "x": [
          768.110875
         ],
         "xaxis": "x",
         "y": [
          0.46019794844073775
         ],
         "yaxis": "y"
        },
        {
         "hovertemplate": "name=Texas Rangers<br>Total Pay in Million=%{x}<br>WinningRatio=%{y}<extra></extra>",
         "legendgroup": "Texas Rangers",
         "marker": {
          "color": "#636efa",
          "symbol": "circle"
         },
         "mode": "markers",
         "name": "Texas Rangers",
         "showlegend": true,
         "type": "scatter",
         "x": [
          1670.090498
         ],
         "xaxis": "x",
         "y": [
          0.5028292682926829
         ],
         "yaxis": "y"
        },
        {
         "hovertemplate": "name=Toronto Blue Jays<br>Total Pay in Million=%{x}<br>WinningRatio=%{y}<extra></extra>",
         "legendgroup": "Toronto Blue Jays",
         "marker": {
          "color": "#EF553B",
          "symbol": "circle"
         },
         "mode": "markers",
         "name": "Toronto Blue Jays",
         "showlegend": true,
         "type": "scatter",
         "x": [
          1570.875353
         ],
         "xaxis": "x",
         "y": [
          0.5103712347749981
         ],
         "yaxis": "y"
        },
        {
         "hovertemplate": "name=Washington Senators<br>Total Pay in Million=%{x}<br>WinningRatio=%{y}<extra></extra>",
         "legendgroup": "Washington Senators",
         "marker": {
          "color": "#00cc96",
          "symbol": "circle"
         },
         "mode": "markers",
         "name": "Washington Senators",
         "showlegend": true,
         "type": "scatter",
         "x": [
          715.360021
         ],
         "xaxis": "x",
         "y": [
          0.4747018544341998
         ],
         "yaxis": "y"
        },
        {
         "hovertemplate": "name=New York Mets<br>Total Pay in Million=%{x}<br>WinningRatio=%{y}<extra></extra>",
         "legendgroup": "New York Mets",
         "marker": {
          "color": "#ab63fa",
          "symbol": "circle"
         },
         "mode": "markers",
         "name": "New York Mets",
         "showlegend": true,
         "type": "scatter",
         "x": [
          2020.544221
         ],
         "xaxis": "x",
         "y": [
          0.5100809976108618
         ],
         "yaxis": "y"
        }
       ],
       "layout": {
        "legend": {
         "title": {
          "text": "name"
         },
         "tracegroupgap": 0
        },
        "margin": {
         "t": 60
        },
        "template": {
         "data": {
          "bar": [
           {
            "error_x": {
             "color": "#2a3f5f"
            },
            "error_y": {
             "color": "#2a3f5f"
            },
            "marker": {
             "line": {
              "color": "#E5ECF6",
              "width": 0.5
             }
            },
            "type": "bar"
           }
          ],
          "barpolar": [
           {
            "marker": {
             "line": {
              "color": "#E5ECF6",
              "width": 0.5
             }
            },
            "type": "barpolar"
           }
          ],
          "carpet": [
           {
            "aaxis": {
             "endlinecolor": "#2a3f5f",
             "gridcolor": "white",
             "linecolor": "white",
             "minorgridcolor": "white",
             "startlinecolor": "#2a3f5f"
            },
            "baxis": {
             "endlinecolor": "#2a3f5f",
             "gridcolor": "white",
             "linecolor": "white",
             "minorgridcolor": "white",
             "startlinecolor": "#2a3f5f"
            },
            "type": "carpet"
           }
          ],
          "choropleth": [
           {
            "colorbar": {
             "outlinewidth": 0,
             "ticks": ""
            },
            "type": "choropleth"
           }
          ],
          "contour": [
           {
            "colorbar": {
             "outlinewidth": 0,
             "ticks": ""
            },
            "colorscale": [
             [
              0,
              "#0d0887"
             ],
             [
              0.1111111111111111,
              "#46039f"
             ],
             [
              0.2222222222222222,
              "#7201a8"
             ],
             [
              0.3333333333333333,
              "#9c179e"
             ],
             [
              0.4444444444444444,
              "#bd3786"
             ],
             [
              0.5555555555555556,
              "#d8576b"
             ],
             [
              0.6666666666666666,
              "#ed7953"
             ],
             [
              0.7777777777777778,
              "#fb9f3a"
             ],
             [
              0.8888888888888888,
              "#fdca26"
             ],
             [
              1,
              "#f0f921"
             ]
            ],
            "type": "contour"
           }
          ],
          "contourcarpet": [
           {
            "colorbar": {
             "outlinewidth": 0,
             "ticks": ""
            },
            "type": "contourcarpet"
           }
          ],
          "heatmap": [
           {
            "colorbar": {
             "outlinewidth": 0,
             "ticks": ""
            },
            "colorscale": [
             [
              0,
              "#0d0887"
             ],
             [
              0.1111111111111111,
              "#46039f"
             ],
             [
              0.2222222222222222,
              "#7201a8"
             ],
             [
              0.3333333333333333,
              "#9c179e"
             ],
             [
              0.4444444444444444,
              "#bd3786"
             ],
             [
              0.5555555555555556,
              "#d8576b"
             ],
             [
              0.6666666666666666,
              "#ed7953"
             ],
             [
              0.7777777777777778,
              "#fb9f3a"
             ],
             [
              0.8888888888888888,
              "#fdca26"
             ],
             [
              1,
              "#f0f921"
             ]
            ],
            "type": "heatmap"
           }
          ],
          "heatmapgl": [
           {
            "colorbar": {
             "outlinewidth": 0,
             "ticks": ""
            },
            "colorscale": [
             [
              0,
              "#0d0887"
             ],
             [
              0.1111111111111111,
              "#46039f"
             ],
             [
              0.2222222222222222,
              "#7201a8"
             ],
             [
              0.3333333333333333,
              "#9c179e"
             ],
             [
              0.4444444444444444,
              "#bd3786"
             ],
             [
              0.5555555555555556,
              "#d8576b"
             ],
             [
              0.6666666666666666,
              "#ed7953"
             ],
             [
              0.7777777777777778,
              "#fb9f3a"
             ],
             [
              0.8888888888888888,
              "#fdca26"
             ],
             [
              1,
              "#f0f921"
             ]
            ],
            "type": "heatmapgl"
           }
          ],
          "histogram": [
           {
            "marker": {
             "colorbar": {
              "outlinewidth": 0,
              "ticks": ""
             }
            },
            "type": "histogram"
           }
          ],
          "histogram2d": [
           {
            "colorbar": {
             "outlinewidth": 0,
             "ticks": ""
            },
            "colorscale": [
             [
              0,
              "#0d0887"
             ],
             [
              0.1111111111111111,
              "#46039f"
             ],
             [
              0.2222222222222222,
              "#7201a8"
             ],
             [
              0.3333333333333333,
              "#9c179e"
             ],
             [
              0.4444444444444444,
              "#bd3786"
             ],
             [
              0.5555555555555556,
              "#d8576b"
             ],
             [
              0.6666666666666666,
              "#ed7953"
             ],
             [
              0.7777777777777778,
              "#fb9f3a"
             ],
             [
              0.8888888888888888,
              "#fdca26"
             ],
             [
              1,
              "#f0f921"
             ]
            ],
            "type": "histogram2d"
           }
          ],
          "histogram2dcontour": [
           {
            "colorbar": {
             "outlinewidth": 0,
             "ticks": ""
            },
            "colorscale": [
             [
              0,
              "#0d0887"
             ],
             [
              0.1111111111111111,
              "#46039f"
             ],
             [
              0.2222222222222222,
              "#7201a8"
             ],
             [
              0.3333333333333333,
              "#9c179e"
             ],
             [
              0.4444444444444444,
              "#bd3786"
             ],
             [
              0.5555555555555556,
              "#d8576b"
             ],
             [
              0.6666666666666666,
              "#ed7953"
             ],
             [
              0.7777777777777778,
              "#fb9f3a"
             ],
             [
              0.8888888888888888,
              "#fdca26"
             ],
             [
              1,
              "#f0f921"
             ]
            ],
            "type": "histogram2dcontour"
           }
          ],
          "mesh3d": [
           {
            "colorbar": {
             "outlinewidth": 0,
             "ticks": ""
            },
            "type": "mesh3d"
           }
          ],
          "parcoords": [
           {
            "line": {
             "colorbar": {
              "outlinewidth": 0,
              "ticks": ""
             }
            },
            "type": "parcoords"
           }
          ],
          "pie": [
           {
            "automargin": true,
            "type": "pie"
           }
          ],
          "scatter": [
           {
            "marker": {
             "colorbar": {
              "outlinewidth": 0,
              "ticks": ""
             }
            },
            "type": "scatter"
           }
          ],
          "scatter3d": [
           {
            "line": {
             "colorbar": {
              "outlinewidth": 0,
              "ticks": ""
             }
            },
            "marker": {
             "colorbar": {
              "outlinewidth": 0,
              "ticks": ""
             }
            },
            "type": "scatter3d"
           }
          ],
          "scattercarpet": [
           {
            "marker": {
             "colorbar": {
              "outlinewidth": 0,
              "ticks": ""
             }
            },
            "type": "scattercarpet"
           }
          ],
          "scattergeo": [
           {
            "marker": {
             "colorbar": {
              "outlinewidth": 0,
              "ticks": ""
             }
            },
            "type": "scattergeo"
           }
          ],
          "scattergl": [
           {
            "marker": {
             "colorbar": {
              "outlinewidth": 0,
              "ticks": ""
             }
            },
            "type": "scattergl"
           }
          ],
          "scattermapbox": [
           {
            "marker": {
             "colorbar": {
              "outlinewidth": 0,
              "ticks": ""
             }
            },
            "type": "scattermapbox"
           }
          ],
          "scatterpolar": [
           {
            "marker": {
             "colorbar": {
              "outlinewidth": 0,
              "ticks": ""
             }
            },
            "type": "scatterpolar"
           }
          ],
          "scatterpolargl": [
           {
            "marker": {
             "colorbar": {
              "outlinewidth": 0,
              "ticks": ""
             }
            },
            "type": "scatterpolargl"
           }
          ],
          "scatterternary": [
           {
            "marker": {
             "colorbar": {
              "outlinewidth": 0,
              "ticks": ""
             }
            },
            "type": "scatterternary"
           }
          ],
          "surface": [
           {
            "colorbar": {
             "outlinewidth": 0,
             "ticks": ""
            },
            "colorscale": [
             [
              0,
              "#0d0887"
             ],
             [
              0.1111111111111111,
              "#46039f"
             ],
             [
              0.2222222222222222,
              "#7201a8"
             ],
             [
              0.3333333333333333,
              "#9c179e"
             ],
             [
              0.4444444444444444,
              "#bd3786"
             ],
             [
              0.5555555555555556,
              "#d8576b"
             ],
             [
              0.6666666666666666,
              "#ed7953"
             ],
             [
              0.7777777777777778,
              "#fb9f3a"
             ],
             [
              0.8888888888888888,
              "#fdca26"
             ],
             [
              1,
              "#f0f921"
             ]
            ],
            "type": "surface"
           }
          ],
          "table": [
           {
            "cells": {
             "fill": {
              "color": "#EBF0F8"
             },
             "line": {
              "color": "white"
             }
            },
            "header": {
             "fill": {
              "color": "#C8D4E3"
             },
             "line": {
              "color": "white"
             }
            },
            "type": "table"
           }
          ]
         },
         "layout": {
          "annotationdefaults": {
           "arrowcolor": "#2a3f5f",
           "arrowhead": 0,
           "arrowwidth": 1
          },
          "coloraxis": {
           "colorbar": {
            "outlinewidth": 0,
            "ticks": ""
           }
          },
          "colorscale": {
           "diverging": [
            [
             0,
             "#8e0152"
            ],
            [
             0.1,
             "#c51b7d"
            ],
            [
             0.2,
             "#de77ae"
            ],
            [
             0.3,
             "#f1b6da"
            ],
            [
             0.4,
             "#fde0ef"
            ],
            [
             0.5,
             "#f7f7f7"
            ],
            [
             0.6,
             "#e6f5d0"
            ],
            [
             0.7,
             "#b8e186"
            ],
            [
             0.8,
             "#7fbc41"
            ],
            [
             0.9,
             "#4d9221"
            ],
            [
             1,
             "#276419"
            ]
           ],
           "sequential": [
            [
             0,
             "#0d0887"
            ],
            [
             0.1111111111111111,
             "#46039f"
            ],
            [
             0.2222222222222222,
             "#7201a8"
            ],
            [
             0.3333333333333333,
             "#9c179e"
            ],
            [
             0.4444444444444444,
             "#bd3786"
            ],
            [
             0.5555555555555556,
             "#d8576b"
            ],
            [
             0.6666666666666666,
             "#ed7953"
            ],
            [
             0.7777777777777778,
             "#fb9f3a"
            ],
            [
             0.8888888888888888,
             "#fdca26"
            ],
            [
             1,
             "#f0f921"
            ]
           ],
           "sequentialminus": [
            [
             0,
             "#0d0887"
            ],
            [
             0.1111111111111111,
             "#46039f"
            ],
            [
             0.2222222222222222,
             "#7201a8"
            ],
            [
             0.3333333333333333,
             "#9c179e"
            ],
            [
             0.4444444444444444,
             "#bd3786"
            ],
            [
             0.5555555555555556,
             "#d8576b"
            ],
            [
             0.6666666666666666,
             "#ed7953"
            ],
            [
             0.7777777777777778,
             "#fb9f3a"
            ],
            [
             0.8888888888888888,
             "#fdca26"
            ],
            [
             1,
             "#f0f921"
            ]
           ]
          },
          "colorway": [
           "#636efa",
           "#EF553B",
           "#00cc96",
           "#ab63fa",
           "#FFA15A",
           "#19d3f3",
           "#FF6692",
           "#B6E880",
           "#FF97FF",
           "#FECB52"
          ],
          "font": {
           "color": "#2a3f5f"
          },
          "geo": {
           "bgcolor": "white",
           "lakecolor": "white",
           "landcolor": "#E5ECF6",
           "showlakes": true,
           "showland": true,
           "subunitcolor": "white"
          },
          "hoverlabel": {
           "align": "left"
          },
          "hovermode": "closest",
          "mapbox": {
           "style": "light"
          },
          "paper_bgcolor": "white",
          "plot_bgcolor": "#E5ECF6",
          "polar": {
           "angularaxis": {
            "gridcolor": "white",
            "linecolor": "white",
            "ticks": ""
           },
           "bgcolor": "#E5ECF6",
           "radialaxis": {
            "gridcolor": "white",
            "linecolor": "white",
            "ticks": ""
           }
          },
          "scene": {
           "xaxis": {
            "backgroundcolor": "#E5ECF6",
            "gridcolor": "white",
            "gridwidth": 2,
            "linecolor": "white",
            "showbackground": true,
            "ticks": "",
            "zerolinecolor": "white"
           },
           "yaxis": {
            "backgroundcolor": "#E5ECF6",
            "gridcolor": "white",
            "gridwidth": 2,
            "linecolor": "white",
            "showbackground": true,
            "ticks": "",
            "zerolinecolor": "white"
           },
           "zaxis": {
            "backgroundcolor": "#E5ECF6",
            "gridcolor": "white",
            "gridwidth": 2,
            "linecolor": "white",
            "showbackground": true,
            "ticks": "",
            "zerolinecolor": "white"
           }
          },
          "shapedefaults": {
           "line": {
            "color": "#2a3f5f"
           }
          },
          "ternary": {
           "aaxis": {
            "gridcolor": "white",
            "linecolor": "white",
            "ticks": ""
           },
           "baxis": {
            "gridcolor": "white",
            "linecolor": "white",
            "ticks": ""
           },
           "bgcolor": "#E5ECF6",
           "caxis": {
            "gridcolor": "white",
            "linecolor": "white",
            "ticks": ""
           }
          },
          "title": {
           "x": 0.05
          },
          "xaxis": {
           "automargin": true,
           "gridcolor": "white",
           "linecolor": "white",
           "ticks": "",
           "title": {
            "standoff": 15
           },
           "zerolinecolor": "white",
           "zerolinewidth": 2
          },
          "yaxis": {
           "automargin": true,
           "gridcolor": "white",
           "linecolor": "white",
           "ticks": "",
           "title": {
            "standoff": 15
           },
           "zerolinecolor": "white",
           "zerolinewidth": 2
          }
         }
        },
        "xaxis": {
         "anchor": "y",
         "domain": [
          0,
          1
         ],
         "title": {
          "text": "Total Pay in Million"
         }
        },
        "yaxis": {
         "anchor": "x",
         "domain": [
          0,
          1
         ],
         "title": {
          "text": "WinningRatio"
         }
        }
       }
      },
      "text/html": [
       "<div>\n",
       "        \n",
       "        \n",
       "            <div id=\"c4df9dc3-45dd-4292-8b6d-4763c31a1d97\" class=\"plotly-graph-div\" style=\"height:525px; width:100%;\"></div>\n",
       "            <script type=\"text/javascript\">\n",
       "                require([\"plotly\"], function(Plotly) {\n",
       "                    window.PLOTLYENV=window.PLOTLYENV || {};\n",
       "                    \n",
       "                if (document.getElementById(\"c4df9dc3-45dd-4292-8b6d-4763c31a1d97\")) {\n",
       "                    Plotly.newPlot(\n",
       "                        'c4df9dc3-45dd-4292-8b6d-4763c31a1d97',\n",
       "                        [{\"hovertemplate\": \"name=Anaheim Angels<br>Total Pay in Million=%{x}<br>WinningRatio=%{y}<extra></extra>\", \"legendgroup\": \"Anaheim Angels\", \"marker\": {\"color\": \"#636efa\", \"symbol\": \"circle\"}, \"mode\": \"markers\", \"name\": \"Anaheim Angels\", \"showlegend\": true, \"type\": \"scatter\", \"x\": [468.091973], \"xaxis\": \"x\", \"y\": [0.5082970960163943], \"yaxis\": \"y\"}, {\"hovertemplate\": \"name=Arizona Diamondbacks<br>Total Pay in Million=%{x}<br>WinningRatio=%{y}<extra></extra>\", \"legendgroup\": \"Arizona Diamondbacks\", \"marker\": {\"color\": \"#EF553B\", \"symbol\": \"circle\"}, \"mode\": \"markers\", \"name\": \"Arizona Diamondbacks\", \"showlegend\": true, \"type\": \"scatter\", \"x\": [1209.975228], \"xaxis\": \"x\", \"y\": [0.4936868686868687], \"yaxis\": \"y\"}, {\"hovertemplate\": \"name=Atlanta Braves<br>Total Pay in Million=%{x}<br>WinningRatio=%{y}<extra></extra>\", \"legendgroup\": \"Atlanta Braves\", \"marker\": {\"color\": \"#00cc96\", \"symbol\": \"circle\"}, \"mode\": \"markers\", \"name\": \"Atlanta Braves\", \"showlegend\": true, \"type\": \"scatter\", \"x\": [1882.946784], \"xaxis\": \"x\", \"y\": [0.5404639908909764], \"yaxis\": \"y\"}, {\"hovertemplate\": \"name=Baltimore Orioles<br>Total Pay in Million=%{x}<br>WinningRatio=%{y}<extra></extra>\", \"legendgroup\": \"Baltimore Orioles\", \"marker\": {\"color\": \"#ab63fa\", \"symbol\": \"circle\"}, \"mode\": \"markers\", \"name\": \"Baltimore Orioles\", \"showlegend\": true, \"type\": \"scatter\", \"x\": [1630.200038], \"xaxis\": \"x\", \"y\": [0.47615418940720144], \"yaxis\": \"y\"}, {\"hovertemplate\": \"name=Boston Americans<br>Total Pay in Million=%{x}<br>WinningRatio=%{y}<extra></extra>\", \"legendgroup\": \"Boston Americans\", \"marker\": {\"color\": \"#FFA15A\", \"symbol\": \"circle\"}, \"mode\": \"markers\", \"name\": \"Boston Americans\", \"showlegend\": true, \"type\": \"scatter\", \"x\": [2432.700935], \"xaxis\": \"x\", \"y\": [0.5345659842908467], \"yaxis\": \"y\"}, {\"hovertemplate\": \"name=California Angels<br>Total Pay in Million=%{x}<br>WinningRatio=%{y}<extra></extra>\", \"legendgroup\": \"California Angels\", \"marker\": {\"color\": \"#19d3f3\", \"symbol\": \"circle\"}, \"mode\": \"markers\", \"name\": \"California Angels\", \"showlegend\": true, \"type\": \"scatter\", \"x\": [271.97893], \"xaxis\": \"x\", \"y\": [0.4878322047023545], \"yaxis\": \"y\"}, {\"hovertemplate\": \"name=Chicago White Sox<br>Total Pay in Million=%{x}<br>WinningRatio=%{y}<extra></extra>\", \"legendgroup\": \"Chicago White Sox\", \"marker\": {\"color\": \"#FF6692\", \"symbol\": \"circle\"}, \"mode\": \"markers\", \"name\": \"Chicago White Sox\", \"showlegend\": true, \"type\": \"scatter\", \"x\": [1699.865143], \"xaxis\": \"x\", \"y\": [0.5076625603815224], \"yaxis\": \"y\"}, {\"hovertemplate\": \"name=Chicago White Stockings<br>Total Pay in Million=%{x}<br>WinningRatio=%{y}<extra></extra>\", \"legendgroup\": \"Chicago White Stockings\", \"marker\": {\"color\": \"#B6E880\", \"symbol\": \"circle\"}, \"mode\": \"markers\", \"name\": \"Chicago White Stockings\", \"showlegend\": true, \"type\": \"scatter\", \"x\": [1859.833315], \"xaxis\": \"x\", \"y\": [0.4803006842154021], \"yaxis\": \"y\"}, {\"hovertemplate\": \"name=Cincinnati Reds<br>Total Pay in Million=%{x}<br>WinningRatio=%{y}<extra></extra>\", \"legendgroup\": \"Cincinnati Reds\", \"marker\": {\"color\": \"#FF97FF\", \"symbol\": \"circle\"}, \"mode\": \"markers\", \"name\": \"Cincinnati Reds\", \"showlegend\": true, \"type\": \"scatter\", \"x\": [1434.775348], \"xaxis\": \"x\", \"y\": [0.5025300688957223], \"yaxis\": \"y\"}, {\"hovertemplate\": \"name=Cleveland Blues<br>Total Pay in Million=%{x}<br>WinningRatio=%{y}<extra></extra>\", \"legendgroup\": \"Cleveland Blues\", \"marker\": {\"color\": \"#FECB52\", \"symbol\": \"circle\"}, \"mode\": \"markers\", \"name\": \"Cleveland Blues\", \"showlegend\": true, \"type\": \"scatter\", \"x\": [1405.016128], \"xaxis\": \"x\", \"y\": [0.5030039602047716], \"yaxis\": \"y\"}, {\"hovertemplate\": \"name=Colorado Rockies<br>Total Pay in Million=%{x}<br>WinningRatio=%{y}<extra></extra>\", \"legendgroup\": \"Colorado Rockies\", \"marker\": {\"color\": \"#636efa\", \"symbol\": \"circle\"}, \"mode\": \"markers\", \"name\": \"Colorado Rockies\", \"showlegend\": true, \"type\": \"scatter\", \"x\": [1293.910639], \"xaxis\": \"x\", \"y\": [0.46838048780487807], \"yaxis\": \"y\"}, {\"hovertemplate\": \"name=Detroit Tigers<br>Total Pay in Million=%{x}<br>WinningRatio=%{y}<extra></extra>\", \"legendgroup\": \"Detroit Tigers\", \"marker\": {\"color\": \"#EF553B\", \"symbol\": \"circle\"}, \"mode\": \"markers\", \"name\": \"Detroit Tigers\", \"showlegend\": true, \"type\": \"scatter\", \"x\": [1771.197687], \"xaxis\": \"x\", \"y\": [0.47835107649399683], \"yaxis\": \"y\"}, {\"hovertemplate\": \"name=Florida Marlins<br>Total Pay in Million=%{x}<br>WinningRatio=%{y}<extra></extra>\", \"legendgroup\": \"Florida Marlins\", \"marker\": {\"color\": \"#00cc96\", \"symbol\": \"circle\"}, \"mode\": \"markers\", \"name\": \"Florida Marlins\", \"showlegend\": true, \"type\": \"scatter\", \"x\": [675.016005], \"xaxis\": \"x\", \"y\": [0.47223270406348045], \"yaxis\": \"y\"}, {\"hovertemplate\": \"name=Houston Colt .45's<br>Total Pay in Million=%{x}<br>WinningRatio=%{y}<extra></extra>\", \"legendgroup\": \"Houston Colt .45's\", \"marker\": {\"color\": \"#ab63fa\", \"symbol\": \"circle\"}, \"mode\": \"markers\", \"name\": \"Houston Colt .45's\", \"showlegend\": true, \"type\": \"scatter\", \"x\": [1408.093157], \"xaxis\": \"x\", \"y\": [0.49808684325436475], \"yaxis\": \"y\"}, {\"hovertemplate\": \"name=Kansas City Royals<br>Total Pay in Million=%{x}<br>WinningRatio=%{y}<extra></extra>\", \"legendgroup\": \"Kansas City Royals\", \"marker\": {\"color\": \"#FFA15A\", \"symbol\": \"circle\"}, \"mode\": \"markers\", \"name\": \"Kansas City Royals\", \"showlegend\": true, \"type\": \"scatter\", \"x\": [1177.466968], \"xaxis\": \"x\", \"y\": [0.4593568116799842], \"yaxis\": \"y\"}, {\"hovertemplate\": \"name=Los Angeles Angels<br>Total Pay in Million=%{x}<br>WinningRatio=%{y}<extra></extra>\", \"legendgroup\": \"Los Angeles Angels\", \"marker\": {\"color\": \"#19d3f3\", \"symbol\": \"circle\"}, \"mode\": \"markers\", \"name\": \"Los Angeles Angels\", \"showlegend\": true, \"type\": \"scatter\", \"x\": [1184.671686], \"xaxis\": \"x\", \"y\": [0.5584711677026649], \"yaxis\": \"y\"}, {\"hovertemplate\": \"name=Los Angeles Dodgers<br>Total Pay in Million=%{x}<br>WinningRatio=%{y}<extra></extra>\", \"legendgroup\": \"Los Angeles Dodgers\", \"marker\": {\"color\": \"#FF6692\", \"symbol\": \"circle\"}, \"mode\": \"markers\", \"name\": \"Los Angeles Dodgers\", \"showlegend\": true, \"type\": \"scatter\", \"x\": [2237.766703], \"xaxis\": \"x\", \"y\": [0.5227111620044713], \"yaxis\": \"y\"}, {\"hovertemplate\": \"name=Miami Marlins<br>Total Pay in Million=%{x}<br>WinningRatio=%{y}<extra></extra>\", \"legendgroup\": \"Miami Marlins\", \"marker\": {\"color\": \"#B6E880\", \"symbol\": \"circle\"}, \"mode\": \"markers\", \"name\": \"Miami Marlins\", \"showlegend\": true, \"type\": \"scatter\", \"x\": [193.5168], \"xaxis\": \"x\", \"y\": [0.42972459639126304], \"yaxis\": \"y\"}, {\"hovertemplate\": \"name=Milwaukee Brewers<br>Total Pay in Million=%{x}<br>WinningRatio=%{y}<extra></extra>\", \"legendgroup\": \"Milwaukee Brewers\", \"marker\": {\"color\": \"#FF97FF\", \"symbol\": \"circle\"}, \"mode\": \"markers\", \"name\": \"Milwaukee Brewers\", \"showlegend\": true, \"type\": \"scatter\", \"x\": [1048.161053, 233.645804], \"xaxis\": \"x\", \"y\": [0.47227772549727354, 0.48818694184713274], \"yaxis\": \"y\"}, {\"hovertemplate\": \"name=Minnesota Twins<br>Total Pay in Million=%{x}<br>WinningRatio=%{y}<extra></extra>\", \"legendgroup\": \"Minnesota Twins\", \"marker\": {\"color\": \"#FECB52\", \"symbol\": \"circle\"}, \"mode\": \"markers\", \"name\": \"Minnesota Twins\", \"showlegend\": true, \"type\": \"scatter\", \"x\": [1270.237124], \"xaxis\": \"x\", \"y\": [0.48641880031475093], \"yaxis\": \"y\"}, {\"hovertemplate\": \"name=Montreal Expos<br>Total Pay in Million=%{x}<br>WinningRatio=%{y}<extra></extra>\", \"legendgroup\": \"Montreal Expos\", \"marker\": {\"color\": \"#636efa\", \"symbol\": \"circle\"}, \"mode\": \"markers\", \"name\": \"Montreal Expos\", \"showlegend\": true, \"type\": \"scatter\", \"x\": [408.203761], \"xaxis\": \"x\", \"y\": [0.4901445885604933], \"yaxis\": \"y\"}, {\"hovertemplate\": \"name=New York Highlanders<br>Total Pay in Million=%{x}<br>WinningRatio=%{y}<extra></extra>\", \"legendgroup\": \"New York Highlanders\", \"marker\": {\"color\": \"#EF553B\", \"symbol\": \"circle\"}, \"mode\": \"markers\", \"name\": \"New York Highlanders\", \"showlegend\": true, \"type\": \"scatter\", \"x\": [3283.119334], \"xaxis\": \"x\", \"y\": [0.5637825646389697], \"yaxis\": \"y\"}, {\"hovertemplate\": \"name=Oakland Athletics<br>Total Pay in Million=%{x}<br>WinningRatio=%{y}<extra></extra>\", \"legendgroup\": \"Oakland Athletics\", \"marker\": {\"color\": \"#00cc96\", \"symbol\": \"circle\"}, \"mode\": \"markers\", \"name\": \"Oakland Athletics\", \"showlegend\": true, \"type\": \"scatter\", \"x\": [1186.554453], \"xaxis\": \"x\", \"y\": [0.5237895590074698], \"yaxis\": \"y\"}, {\"hovertemplate\": \"name=Philadelphia Quakers<br>Total Pay in Million=%{x}<br>WinningRatio=%{y}<extra></extra>\", \"legendgroup\": \"Philadelphia Quakers\", \"marker\": {\"color\": \"#ab63fa\", \"symbol\": \"circle\"}, \"mode\": \"markers\", \"name\": \"Philadelphia Quakers\", \"showlegend\": true, \"type\": \"scatter\", \"x\": [1982.3558], \"xaxis\": \"x\", \"y\": [0.49134127789046655], \"yaxis\": \"y\"}, {\"hovertemplate\": \"name=Pittsburg Alleghenys<br>Total Pay in Million=%{x}<br>WinningRatio=%{y}<extra></extra>\", \"legendgroup\": \"Pittsburg Alleghenys\", \"marker\": {\"color\": \"#FFA15A\", \"symbol\": \"circle\"}, \"mode\": \"markers\", \"name\": \"Pittsburg Alleghenys\", \"showlegend\": true, \"type\": \"scatter\", \"x\": [994.547218], \"xaxis\": \"x\", \"y\": [0.4673594715588755], \"yaxis\": \"y\"}, {\"hovertemplate\": \"name=San Diego Padres<br>Total Pay in Million=%{x}<br>WinningRatio=%{y}<extra></extra>\", \"legendgroup\": \"San Diego Padres\", \"marker\": {\"color\": \"#19d3f3\", \"symbol\": \"circle\"}, \"mode\": \"markers\", \"name\": \"San Diego Padres\", \"showlegend\": true, \"type\": \"scatter\", \"x\": [1177.499962], \"xaxis\": \"x\", \"y\": [0.478580842802693], \"yaxis\": \"y\"}, {\"hovertemplate\": \"name=Seattle Mariners<br>Total Pay in Million=%{x}<br>WinningRatio=%{y}<extra></extra>\", \"legendgroup\": \"Seattle Mariners\", \"marker\": {\"color\": \"#FF6692\", \"symbol\": \"circle\"}, \"mode\": \"markers\", \"name\": \"Seattle Mariners\", \"showlegend\": true, \"type\": \"scatter\", \"x\": [1673.143431], \"xaxis\": \"x\", \"y\": [0.4846972672109607], \"yaxis\": \"y\"}, {\"hovertemplate\": \"name=San Francisco Giants<br>Total Pay in Million=%{x}<br>WinningRatio=%{y}<extra></extra>\", \"legendgroup\": \"San Francisco Giants\", \"marker\": {\"color\": \"#B6E880\", \"symbol\": \"circle\"}, \"mode\": \"markers\", \"name\": \"San Francisco Giants\", \"showlegend\": true, \"type\": \"scatter\", \"x\": [1696.242921, 1839.753088], \"xaxis\": \"x\", \"y\": [0.5194319603734608, 0.5202447723203054], \"yaxis\": \"y\"}, {\"hovertemplate\": \"name=St. Louis Browns<br>Total Pay in Million=%{x}<br>WinningRatio=%{y}<extra></extra>\", \"legendgroup\": \"St. Louis Browns\", \"marker\": {\"color\": \"#FF97FF\", \"symbol\": \"circle\"}, \"mode\": \"markers\", \"name\": \"St. Louis Browns\", \"showlegend\": true, \"type\": \"scatter\", \"x\": [1775.631332], \"xaxis\": \"x\", \"y\": [0.5268120363531263], \"yaxis\": \"y\"}, {\"hovertemplate\": \"name=Tampa Bay Devil Rays<br>Total Pay in Million=%{x}<br>WinningRatio=%{y}<extra></extra>\", \"legendgroup\": \"Tampa Bay Devil Rays\", \"marker\": {\"color\": \"#FECB52\", \"symbol\": \"circle\"}, \"mode\": \"markers\", \"name\": \"Tampa Bay Devil Rays\", \"showlegend\": true, \"type\": \"scatter\", \"x\": [768.110875], \"xaxis\": \"x\", \"y\": [0.46019794844073775], \"yaxis\": \"y\"}, {\"hovertemplate\": \"name=Texas Rangers<br>Total Pay in Million=%{x}<br>WinningRatio=%{y}<extra></extra>\", \"legendgroup\": \"Texas Rangers\", \"marker\": {\"color\": \"#636efa\", \"symbol\": \"circle\"}, \"mode\": \"markers\", \"name\": \"Texas Rangers\", \"showlegend\": true, \"type\": \"scatter\", \"x\": [1670.090498], \"xaxis\": \"x\", \"y\": [0.5028292682926829], \"yaxis\": \"y\"}, {\"hovertemplate\": \"name=Toronto Blue Jays<br>Total Pay in Million=%{x}<br>WinningRatio=%{y}<extra></extra>\", \"legendgroup\": \"Toronto Blue Jays\", \"marker\": {\"color\": \"#EF553B\", \"symbol\": \"circle\"}, \"mode\": \"markers\", \"name\": \"Toronto Blue Jays\", \"showlegend\": true, \"type\": \"scatter\", \"x\": [1570.875353], \"xaxis\": \"x\", \"y\": [0.5103712347749981], \"yaxis\": \"y\"}, {\"hovertemplate\": \"name=Washington Senators<br>Total Pay in Million=%{x}<br>WinningRatio=%{y}<extra></extra>\", \"legendgroup\": \"Washington Senators\", \"marker\": {\"color\": \"#00cc96\", \"symbol\": \"circle\"}, \"mode\": \"markers\", \"name\": \"Washington Senators\", \"showlegend\": true, \"type\": \"scatter\", \"x\": [715.360021], \"xaxis\": \"x\", \"y\": [0.4747018544341998], \"yaxis\": \"y\"}, {\"hovertemplate\": \"name=New York Mets<br>Total Pay in Million=%{x}<br>WinningRatio=%{y}<extra></extra>\", \"legendgroup\": \"New York Mets\", \"marker\": {\"color\": \"#ab63fa\", \"symbol\": \"circle\"}, \"mode\": \"markers\", \"name\": \"New York Mets\", \"showlegend\": true, \"type\": \"scatter\", \"x\": [2020.544221], \"xaxis\": \"x\", \"y\": [0.5100809976108618], \"yaxis\": \"y\"}],\n",
       "                        {\"legend\": {\"title\": {\"text\": \"name\"}, \"tracegroupgap\": 0}, \"margin\": {\"t\": 60}, \"template\": {\"data\": {\"bar\": [{\"error_x\": {\"color\": \"#2a3f5f\"}, \"error_y\": {\"color\": \"#2a3f5f\"}, \"marker\": {\"line\": {\"color\": \"#E5ECF6\", \"width\": 0.5}}, \"type\": \"bar\"}], \"barpolar\": [{\"marker\": {\"line\": {\"color\": \"#E5ECF6\", \"width\": 0.5}}, \"type\": \"barpolar\"}], \"carpet\": [{\"aaxis\": {\"endlinecolor\": \"#2a3f5f\", \"gridcolor\": \"white\", \"linecolor\": \"white\", \"minorgridcolor\": \"white\", \"startlinecolor\": \"#2a3f5f\"}, \"baxis\": {\"endlinecolor\": \"#2a3f5f\", \"gridcolor\": \"white\", \"linecolor\": \"white\", \"minorgridcolor\": \"white\", \"startlinecolor\": \"#2a3f5f\"}, \"type\": \"carpet\"}], \"choropleth\": [{\"colorbar\": {\"outlinewidth\": 0, \"ticks\": \"\"}, \"type\": \"choropleth\"}], \"contour\": [{\"colorbar\": {\"outlinewidth\": 0, \"ticks\": \"\"}, \"colorscale\": [[0.0, \"#0d0887\"], [0.1111111111111111, \"#46039f\"], [0.2222222222222222, \"#7201a8\"], [0.3333333333333333, \"#9c179e\"], [0.4444444444444444, \"#bd3786\"], [0.5555555555555556, \"#d8576b\"], [0.6666666666666666, \"#ed7953\"], [0.7777777777777778, \"#fb9f3a\"], [0.8888888888888888, \"#fdca26\"], [1.0, \"#f0f921\"]], \"type\": \"contour\"}], \"contourcarpet\": [{\"colorbar\": {\"outlinewidth\": 0, \"ticks\": \"\"}, \"type\": \"contourcarpet\"}], \"heatmap\": [{\"colorbar\": {\"outlinewidth\": 0, \"ticks\": \"\"}, \"colorscale\": [[0.0, \"#0d0887\"], [0.1111111111111111, \"#46039f\"], [0.2222222222222222, \"#7201a8\"], [0.3333333333333333, \"#9c179e\"], [0.4444444444444444, \"#bd3786\"], [0.5555555555555556, \"#d8576b\"], [0.6666666666666666, \"#ed7953\"], [0.7777777777777778, \"#fb9f3a\"], [0.8888888888888888, \"#fdca26\"], [1.0, \"#f0f921\"]], \"type\": \"heatmap\"}], \"heatmapgl\": [{\"colorbar\": {\"outlinewidth\": 0, \"ticks\": \"\"}, \"colorscale\": [[0.0, \"#0d0887\"], [0.1111111111111111, \"#46039f\"], [0.2222222222222222, \"#7201a8\"], [0.3333333333333333, \"#9c179e\"], [0.4444444444444444, \"#bd3786\"], [0.5555555555555556, \"#d8576b\"], [0.6666666666666666, \"#ed7953\"], [0.7777777777777778, \"#fb9f3a\"], [0.8888888888888888, \"#fdca26\"], [1.0, \"#f0f921\"]], \"type\": \"heatmapgl\"}], \"histogram\": [{\"marker\": {\"colorbar\": {\"outlinewidth\": 0, \"ticks\": \"\"}}, \"type\": \"histogram\"}], \"histogram2d\": [{\"colorbar\": {\"outlinewidth\": 0, \"ticks\": \"\"}, \"colorscale\": [[0.0, \"#0d0887\"], [0.1111111111111111, \"#46039f\"], [0.2222222222222222, \"#7201a8\"], [0.3333333333333333, \"#9c179e\"], [0.4444444444444444, \"#bd3786\"], [0.5555555555555556, \"#d8576b\"], [0.6666666666666666, \"#ed7953\"], [0.7777777777777778, \"#fb9f3a\"], [0.8888888888888888, \"#fdca26\"], [1.0, \"#f0f921\"]], \"type\": \"histogram2d\"}], \"histogram2dcontour\": [{\"colorbar\": {\"outlinewidth\": 0, \"ticks\": \"\"}, \"colorscale\": [[0.0, \"#0d0887\"], [0.1111111111111111, \"#46039f\"], [0.2222222222222222, \"#7201a8\"], [0.3333333333333333, \"#9c179e\"], [0.4444444444444444, \"#bd3786\"], [0.5555555555555556, \"#d8576b\"], [0.6666666666666666, \"#ed7953\"], [0.7777777777777778, \"#fb9f3a\"], [0.8888888888888888, \"#fdca26\"], [1.0, \"#f0f921\"]], \"type\": \"histogram2dcontour\"}], \"mesh3d\": [{\"colorbar\": {\"outlinewidth\": 0, \"ticks\": \"\"}, \"type\": \"mesh3d\"}], \"parcoords\": [{\"line\": {\"colorbar\": {\"outlinewidth\": 0, \"ticks\": \"\"}}, \"type\": \"parcoords\"}], \"pie\": [{\"automargin\": true, \"type\": \"pie\"}], \"scatter\": [{\"marker\": {\"colorbar\": {\"outlinewidth\": 0, \"ticks\": \"\"}}, \"type\": \"scatter\"}], \"scatter3d\": [{\"line\": {\"colorbar\": {\"outlinewidth\": 0, \"ticks\": \"\"}}, \"marker\": {\"colorbar\": {\"outlinewidth\": 0, \"ticks\": \"\"}}, \"type\": \"scatter3d\"}], \"scattercarpet\": [{\"marker\": {\"colorbar\": {\"outlinewidth\": 0, \"ticks\": \"\"}}, \"type\": \"scattercarpet\"}], \"scattergeo\": [{\"marker\": {\"colorbar\": {\"outlinewidth\": 0, \"ticks\": \"\"}}, \"type\": \"scattergeo\"}], \"scattergl\": [{\"marker\": {\"colorbar\": {\"outlinewidth\": 0, \"ticks\": \"\"}}, \"type\": \"scattergl\"}], \"scattermapbox\": [{\"marker\": {\"colorbar\": {\"outlinewidth\": 0, \"ticks\": \"\"}}, \"type\": \"scattermapbox\"}], \"scatterpolar\": [{\"marker\": {\"colorbar\": {\"outlinewidth\": 0, \"ticks\": \"\"}}, \"type\": \"scatterpolar\"}], \"scatterpolargl\": [{\"marker\": {\"colorbar\": {\"outlinewidth\": 0, \"ticks\": \"\"}}, \"type\": \"scatterpolargl\"}], \"scatterternary\": [{\"marker\": {\"colorbar\": {\"outlinewidth\": 0, \"ticks\": \"\"}}, \"type\": \"scatterternary\"}], \"surface\": [{\"colorbar\": {\"outlinewidth\": 0, \"ticks\": \"\"}, \"colorscale\": [[0.0, \"#0d0887\"], [0.1111111111111111, \"#46039f\"], [0.2222222222222222, \"#7201a8\"], [0.3333333333333333, \"#9c179e\"], [0.4444444444444444, \"#bd3786\"], [0.5555555555555556, \"#d8576b\"], [0.6666666666666666, \"#ed7953\"], [0.7777777777777778, \"#fb9f3a\"], [0.8888888888888888, \"#fdca26\"], [1.0, \"#f0f921\"]], \"type\": \"surface\"}], \"table\": [{\"cells\": {\"fill\": {\"color\": \"#EBF0F8\"}, \"line\": {\"color\": \"white\"}}, \"header\": {\"fill\": {\"color\": \"#C8D4E3\"}, \"line\": {\"color\": \"white\"}}, \"type\": \"table\"}]}, \"layout\": {\"annotationdefaults\": {\"arrowcolor\": \"#2a3f5f\", \"arrowhead\": 0, \"arrowwidth\": 1}, \"coloraxis\": {\"colorbar\": {\"outlinewidth\": 0, \"ticks\": \"\"}}, \"colorscale\": {\"diverging\": [[0, \"#8e0152\"], [0.1, \"#c51b7d\"], [0.2, \"#de77ae\"], [0.3, \"#f1b6da\"], [0.4, \"#fde0ef\"], [0.5, \"#f7f7f7\"], [0.6, \"#e6f5d0\"], [0.7, \"#b8e186\"], [0.8, \"#7fbc41\"], [0.9, \"#4d9221\"], [1, \"#276419\"]], \"sequential\": [[0.0, \"#0d0887\"], [0.1111111111111111, \"#46039f\"], [0.2222222222222222, \"#7201a8\"], [0.3333333333333333, \"#9c179e\"], [0.4444444444444444, \"#bd3786\"], [0.5555555555555556, \"#d8576b\"], [0.6666666666666666, \"#ed7953\"], [0.7777777777777778, \"#fb9f3a\"], [0.8888888888888888, \"#fdca26\"], [1.0, \"#f0f921\"]], \"sequentialminus\": [[0.0, \"#0d0887\"], [0.1111111111111111, \"#46039f\"], [0.2222222222222222, \"#7201a8\"], [0.3333333333333333, \"#9c179e\"], [0.4444444444444444, \"#bd3786\"], [0.5555555555555556, \"#d8576b\"], [0.6666666666666666, \"#ed7953\"], [0.7777777777777778, \"#fb9f3a\"], [0.8888888888888888, \"#fdca26\"], [1.0, \"#f0f921\"]]}, \"colorway\": [\"#636efa\", \"#EF553B\", \"#00cc96\", \"#ab63fa\", \"#FFA15A\", \"#19d3f3\", \"#FF6692\", \"#B6E880\", \"#FF97FF\", \"#FECB52\"], \"font\": {\"color\": \"#2a3f5f\"}, \"geo\": {\"bgcolor\": \"white\", \"lakecolor\": \"white\", \"landcolor\": \"#E5ECF6\", \"showlakes\": true, \"showland\": true, \"subunitcolor\": \"white\"}, \"hoverlabel\": {\"align\": \"left\"}, \"hovermode\": \"closest\", \"mapbox\": {\"style\": \"light\"}, \"paper_bgcolor\": \"white\", \"plot_bgcolor\": \"#E5ECF6\", \"polar\": {\"angularaxis\": {\"gridcolor\": \"white\", \"linecolor\": \"white\", \"ticks\": \"\"}, \"bgcolor\": \"#E5ECF6\", \"radialaxis\": {\"gridcolor\": \"white\", \"linecolor\": \"white\", \"ticks\": \"\"}}, \"scene\": {\"xaxis\": {\"backgroundcolor\": \"#E5ECF6\", \"gridcolor\": \"white\", \"gridwidth\": 2, \"linecolor\": \"white\", \"showbackground\": true, \"ticks\": \"\", \"zerolinecolor\": \"white\"}, \"yaxis\": {\"backgroundcolor\": \"#E5ECF6\", \"gridcolor\": \"white\", \"gridwidth\": 2, \"linecolor\": \"white\", \"showbackground\": true, \"ticks\": \"\", \"zerolinecolor\": \"white\"}, \"zaxis\": {\"backgroundcolor\": \"#E5ECF6\", \"gridcolor\": \"white\", \"gridwidth\": 2, \"linecolor\": \"white\", \"showbackground\": true, \"ticks\": \"\", \"zerolinecolor\": \"white\"}}, \"shapedefaults\": {\"line\": {\"color\": \"#2a3f5f\"}}, \"ternary\": {\"aaxis\": {\"gridcolor\": \"white\", \"linecolor\": \"white\", \"ticks\": \"\"}, \"baxis\": {\"gridcolor\": \"white\", \"linecolor\": \"white\", \"ticks\": \"\"}, \"bgcolor\": \"#E5ECF6\", \"caxis\": {\"gridcolor\": \"white\", \"linecolor\": \"white\", \"ticks\": \"\"}}, \"title\": {\"x\": 0.05}, \"xaxis\": {\"automargin\": true, \"gridcolor\": \"white\", \"linecolor\": \"white\", \"ticks\": \"\", \"title\": {\"standoff\": 15}, \"zerolinecolor\": \"white\", \"zerolinewidth\": 2}, \"yaxis\": {\"automargin\": true, \"gridcolor\": \"white\", \"linecolor\": \"white\", \"ticks\": \"\", \"title\": {\"standoff\": 15}, \"zerolinecolor\": \"white\", \"zerolinewidth\": 2}}}, \"xaxis\": {\"anchor\": \"y\", \"domain\": [0.0, 1.0], \"title\": {\"text\": \"Total Pay in Million\"}}, \"yaxis\": {\"anchor\": \"x\", \"domain\": [0.0, 1.0], \"title\": {\"text\": \"WinningRatio\"}}},\n",
       "                        {\"responsive\": true}\n",
       "                    ).then(function(){\n",
       "                            \n",
       "var gd = document.getElementById('c4df9dc3-45dd-4292-8b6d-4763c31a1d97');\n",
       "var x = new MutationObserver(function (mutations, observer) {{\n",
       "        var display = window.getComputedStyle(gd).display;\n",
       "        if (!display || display === 'none') {{\n",
       "            console.log([gd, 'removed!']);\n",
       "            Plotly.purge(gd);\n",
       "            observer.disconnect();\n",
       "        }}\n",
       "}});\n",
       "\n",
       "// Listen for the removal of the full notebook cells\n",
       "var notebookContainer = gd.closest('#notebook-container');\n",
       "if (notebookContainer) {{\n",
       "    x.observe(notebookContainer, {childList: true});\n",
       "}}\n",
       "\n",
       "// Listen for the clearing of the current output cell\n",
       "var outputEl = gd.closest('.output');\n",
       "if (outputEl) {{\n",
       "    x.observe(outputEl, {childList: true});\n",
       "}}\n",
       "\n",
       "                        })\n",
       "                };\n",
       "                });\n",
       "            </script>\n",
       "        </div>"
      ]
     },
     "metadata": {},
     "output_type": "display_data"
    }
   ],
   "source": [
    "import plotly.express as px\n",
    "fig = px.scatter(df, y=\"WinningRatio\", x=\"Total Pay in Million\", color='name')\n",
    "fig.show()"
   ]
  },
  {
   "cell_type": "code",
   "execution_count": null,
   "metadata": {},
   "outputs": [],
   "source": []
  }
 ],
 "metadata": {
  "kernelspec": {
   "display_name": "Python 3",
   "language": "python",
   "name": "python3"
  },
  "language_info": {
   "codemirror_mode": {
    "name": "ipython",
    "version": 3
   },
   "file_extension": ".py",
   "mimetype": "text/x-python",
   "name": "python",
   "nbconvert_exporter": "python",
   "pygments_lexer": "ipython3",
   "version": "3.7.3"
  }
 },
 "nbformat": 4,
 "nbformat_minor": 2
}
